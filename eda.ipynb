{
  "cells": [
    {
      "cell_type": "markdown",
      "metadata": {
        "id": "MRdoXxUanQni"
      },
      "source": [
        "# Import"
      ]
    },
    {
      "cell_type": "code",
      "execution_count": null,
      "metadata": {
        "id": "2Qnj5odsnQnq"
      },
      "outputs": [],
      "source": [
        "import pandas as pd\n",
        "import numpy as np\n",
        "import matplotlib.pyplot as plt\n",
        "\n",
        "from imblearn.over_sampling import ADASYN, KMeansSMOTE, SMOTE\n",
        "from imblearn.ensemble import BalancedRandomForestClassifier\n",
        "\n",
        "from sklearn.feature_selection import f_classif, mutual_info_classif, \\\n",
        "    SelectFromModel\n",
        "from sklearn.linear_model import LogisticRegression\n",
        "from sklearn.model_selection import train_test_split, RandomizedSearchCV\n",
        "from sklearn.metrics import classification_report, roc_auc_score, f1_score\n",
        "from sklearn.decomposition import PCA\n",
        "from sklearn.kernel_approximation import RBFSampler\n",
        "from sklearn.ensemble import IsolationForest, RandomForestClassifier\n",
        "\n",
        "from xgboost import XGBClassifier, DMatrix\n",
        "\n",
        "import seaborn as sns\n",
        "\n",
        "%matplotlib inline"
      ]
    },
    {
      "cell_type": "markdown",
      "metadata": {
        "id": "WrlrdUL1nQnv"
      },
      "source": [
        "# Preliminary analysis"
      ]
    },
    {
      "cell_type": "code",
      "execution_count": null,
      "metadata": {
        "id": "wKBvrzpmnQnw",
        "outputId": "d94eb424-e159-4191-c9ce-fec62465ea5c"
      },
      "outputs": [
        {
          "name": "stderr",
          "output_type": "stream",
          "text": [
            "C:\\Users\\Lev\\AppData\\Local\\Temp\\ipykernel_2548\\3176436983.py:1: UserWarning: Parsing dates in %Y-%m-%d format when dayfirst=True was specified. Pass `dayfirst=False` or specify a format to silence this warning.\n",
            "  df = pd.read_csv(\"ST14000NM001G.csv\", parse_dates=[\"date\"], dayfirst=True)\n"
          ]
        }
      ],
      "source": [
        "df = pd.read_csv(\"ST14000NM001G.csv\", parse_dates=[\"date\"], dayfirst=True)"
      ]
    },
    {
      "cell_type": "code",
      "execution_count": null,
      "metadata": {
        "id": "0Ji_3FgZnQny",
        "outputId": "7e6b6f76-82eb-4e87-a3c1-247b7e6ea451"
      },
      "outputs": [
        {
          "data": {
            "text/plain": [
              "count                          7320142\n",
              "mean     2022-01-07 19:50:33.756558592\n",
              "min                2020-09-14 00:00:00\n",
              "25%                2021-07-31 00:00:00\n",
              "50%                2022-01-20 00:00:00\n",
              "75%                2022-07-12 00:00:00\n",
              "max                2022-12-31 00:00:00\n",
              "Name: date, dtype: object"
            ]
          },
          "execution_count": 33,
          "metadata": {},
          "output_type": "execute_result"
        }
      ],
      "source": [
        "df.date.describe()"
      ]
    },
    {
      "cell_type": "code",
      "execution_count": null,
      "metadata": {
        "id": "X4yWsTLknQnz",
        "outputId": "050b48ac-29af-46c8-f252-1e7618fd73b2"
      },
      "outputs": [
        {
          "data": {
            "text/html": [
              "<div>\n",
              "<style scoped>\n",
              "    .dataframe tbody tr th:only-of-type {\n",
              "        vertical-align: middle;\n",
              "    }\n",
              "\n",
              "    .dataframe tbody tr th {\n",
              "        vertical-align: top;\n",
              "    }\n",
              "\n",
              "    .dataframe thead th {\n",
              "        text-align: right;\n",
              "    }\n",
              "</style>\n",
              "<table border=\"1\" class=\"dataframe\">\n",
              "  <thead>\n",
              "    <tr style=\"text-align: right;\">\n",
              "      <th></th>\n",
              "      <th>date</th>\n",
              "      <th>serial_number</th>\n",
              "      <th>model</th>\n",
              "      <th>capacity_bytes</th>\n",
              "      <th>failure</th>\n",
              "      <th>smart_5_raw</th>\n",
              "      <th>smart_9_raw</th>\n",
              "      <th>smart_187_raw</th>\n",
              "      <th>smart_188_raw</th>\n",
              "      <th>smart_192_raw</th>\n",
              "      <th>smart_197_raw</th>\n",
              "      <th>smart_198_raw</th>\n",
              "      <th>smart_199_raw</th>\n",
              "      <th>smart_240_raw</th>\n",
              "      <th>smart_241_raw</th>\n",
              "      <th>smart_242_raw</th>\n",
              "    </tr>\n",
              "  </thead>\n",
              "  <tbody>\n",
              "    <tr>\n",
              "      <th>1880732</th>\n",
              "      <td>2022-01-07</td>\n",
              "      <td>ZL2D4XKK</td>\n",
              "      <td>ST14000NM001G</td>\n",
              "      <td>14000519643136</td>\n",
              "      <td>0</td>\n",
              "      <td>0.0</td>\n",
              "      <td>5543.0</td>\n",
              "      <td>0.0</td>\n",
              "      <td>0.0</td>\n",
              "      <td>1.0</td>\n",
              "      <td>0.0</td>\n",
              "      <td>0.0</td>\n",
              "      <td>0.0</td>\n",
              "      <td>5338.0</td>\n",
              "      <td>5.220651e+10</td>\n",
              "      <td>6.171253e+10</td>\n",
              "    </tr>\n",
              "    <tr>\n",
              "      <th>214288</th>\n",
              "      <td>2021-08-06</td>\n",
              "      <td>ZL2994TB</td>\n",
              "      <td>ST14000NM001G</td>\n",
              "      <td>14000519643136</td>\n",
              "      <td>0</td>\n",
              "      <td>0.0</td>\n",
              "      <td>1568.0</td>\n",
              "      <td>0.0</td>\n",
              "      <td>0.0</td>\n",
              "      <td>0.0</td>\n",
              "      <td>0.0</td>\n",
              "      <td>0.0</td>\n",
              "      <td>0.0</td>\n",
              "      <td>938.0</td>\n",
              "      <td>1.679129e+10</td>\n",
              "      <td>1.475695e+10</td>\n",
              "    </tr>\n",
              "    <tr>\n",
              "      <th>7168869</th>\n",
              "      <td>2022-02-20</td>\n",
              "      <td>ZTM084K2</td>\n",
              "      <td>ST14000NM001G</td>\n",
              "      <td>14000519643136</td>\n",
              "      <td>0</td>\n",
              "      <td>0.0</td>\n",
              "      <td>5138.0</td>\n",
              "      <td>0.0</td>\n",
              "      <td>0.0</td>\n",
              "      <td>0.0</td>\n",
              "      <td>0.0</td>\n",
              "      <td>0.0</td>\n",
              "      <td>0.0</td>\n",
              "      <td>4751.0</td>\n",
              "      <td>5.136592e+10</td>\n",
              "      <td>6.349512e+10</td>\n",
              "    </tr>\n",
              "    <tr>\n",
              "      <th>550250</th>\n",
              "      <td>2022-06-07</td>\n",
              "      <td>ZL2BNS9D</td>\n",
              "      <td>ST14000NM001G</td>\n",
              "      <td>14000519643136</td>\n",
              "      <td>0</td>\n",
              "      <td>0.0</td>\n",
              "      <td>7686.0</td>\n",
              "      <td>0.0</td>\n",
              "      <td>0.0</td>\n",
              "      <td>1.0</td>\n",
              "      <td>0.0</td>\n",
              "      <td>0.0</td>\n",
              "      <td>0.0</td>\n",
              "      <td>7203.0</td>\n",
              "      <td>6.032710e+10</td>\n",
              "      <td>9.394817e+10</td>\n",
              "    </tr>\n",
              "    <tr>\n",
              "      <th>2568336</th>\n",
              "      <td>2021-07-22</td>\n",
              "      <td>ZLW15TR5</td>\n",
              "      <td>ST14000NM001G</td>\n",
              "      <td>14000519643136</td>\n",
              "      <td>0</td>\n",
              "      <td>0.0</td>\n",
              "      <td>6436.0</td>\n",
              "      <td>0.0</td>\n",
              "      <td>0.0</td>\n",
              "      <td>3.0</td>\n",
              "      <td>0.0</td>\n",
              "      <td>0.0</td>\n",
              "      <td>0.0</td>\n",
              "      <td>5974.0</td>\n",
              "      <td>6.040795e+10</td>\n",
              "      <td>1.155402e+11</td>\n",
              "    </tr>\n",
              "  </tbody>\n",
              "</table>\n",
              "</div>"
            ],
            "text/plain": [
              "              date serial_number          model  capacity_bytes  failure  \\\n",
              "1880732 2022-01-07      ZL2D4XKK  ST14000NM001G  14000519643136        0   \n",
              "214288  2021-08-06      ZL2994TB  ST14000NM001G  14000519643136        0   \n",
              "7168869 2022-02-20      ZTM084K2  ST14000NM001G  14000519643136        0   \n",
              "550250  2022-06-07      ZL2BNS9D  ST14000NM001G  14000519643136        0   \n",
              "2568336 2021-07-22      ZLW15TR5  ST14000NM001G  14000519643136        0   \n",
              "\n",
              "         smart_5_raw  smart_9_raw  smart_187_raw  smart_188_raw  \\\n",
              "1880732          0.0       5543.0            0.0            0.0   \n",
              "214288           0.0       1568.0            0.0            0.0   \n",
              "7168869          0.0       5138.0            0.0            0.0   \n",
              "550250           0.0       7686.0            0.0            0.0   \n",
              "2568336          0.0       6436.0            0.0            0.0   \n",
              "\n",
              "         smart_192_raw  smart_197_raw  smart_198_raw  smart_199_raw  \\\n",
              "1880732            1.0            0.0            0.0            0.0   \n",
              "214288             0.0            0.0            0.0            0.0   \n",
              "7168869            0.0            0.0            0.0            0.0   \n",
              "550250             1.0            0.0            0.0            0.0   \n",
              "2568336            3.0            0.0            0.0            0.0   \n",
              "\n",
              "         smart_240_raw  smart_241_raw  smart_242_raw  \n",
              "1880732         5338.0   5.220651e+10   6.171253e+10  \n",
              "214288           938.0   1.679129e+10   1.475695e+10  \n",
              "7168869         4751.0   5.136592e+10   6.349512e+10  \n",
              "550250          7203.0   6.032710e+10   9.394817e+10  \n",
              "2568336         5974.0   6.040795e+10   1.155402e+11  "
            ]
          },
          "execution_count": 31,
          "metadata": {},
          "output_type": "execute_result"
        }
      ],
      "source": [
        "df.sample(5)"
      ]
    },
    {
      "cell_type": "code",
      "execution_count": null,
      "metadata": {
        "id": "ocGOGty0nQn0",
        "outputId": "e20102e8-6f0c-45ca-8811-7c7bfa6640f4"
      },
      "outputs": [
        {
          "data": {
            "text/plain": [
              "Index(['date', 'serial_number', 'model', 'capacity_bytes', 'failure',\n",
              "       'smart_5_raw', 'smart_9_raw', 'smart_187_raw', 'smart_188_raw',\n",
              "       'smart_192_raw', 'smart_197_raw', 'smart_198_raw', 'smart_199_raw',\n",
              "       'smart_240_raw', 'smart_241_raw', 'smart_242_raw'],\n",
              "      dtype='object')"
            ]
          },
          "execution_count": 26,
          "metadata": {},
          "output_type": "execute_result"
        }
      ],
      "source": [
        "df.columns"
      ]
    },
    {
      "cell_type": "code",
      "execution_count": null,
      "metadata": {
        "id": "vyhFWcZpnQn1",
        "outputId": "7f662ab2-c760-48c6-cf80-773ef8f832c9"
      },
      "outputs": [
        {
          "name": "stdout",
          "output_type": "stream",
          "text": [
            "<class 'pandas.core.frame.DataFrame'>\n",
            "RangeIndex: 7320142 entries, 0 to 7320141\n",
            "Data columns (total 16 columns):\n",
            " #   Column          Dtype         \n",
            "---  ------          -----         \n",
            " 0   date            datetime64[ns]\n",
            " 1   serial_number   object        \n",
            " 2   model           object        \n",
            " 3   capacity_bytes  int64         \n",
            " 4   failure         int64         \n",
            " 5   smart_5_raw     float64       \n",
            " 6   smart_9_raw     float64       \n",
            " 7   smart_187_raw   float64       \n",
            " 8   smart_188_raw   float64       \n",
            " 9   smart_192_raw   float64       \n",
            " 10  smart_197_raw   float64       \n",
            " 11  smart_198_raw   float64       \n",
            " 12  smart_199_raw   float64       \n",
            " 13  smart_240_raw   float64       \n",
            " 14  smart_241_raw   float64       \n",
            " 15  smart_242_raw   float64       \n",
            "dtypes: datetime64[ns](1), float64(11), int64(2), object(2)\n",
            "memory usage: 893.6+ MB\n"
          ]
        }
      ],
      "source": [
        "df.info()"
      ]
    },
    {
      "cell_type": "code",
      "execution_count": null,
      "metadata": {
        "id": "UEIRYQ_HnQn2",
        "outputId": "ad42d07f-68fb-4ffb-fa68-c2e8bf8808d1"
      },
      "outputs": [
        {
          "data": {
            "text/plain": [
              "date              0\n",
              "serial_number     0\n",
              "model             0\n",
              "capacity_bytes    0\n",
              "failure           0\n",
              "smart_5_raw       0\n",
              "smart_9_raw       0\n",
              "smart_187_raw     0\n",
              "smart_188_raw     0\n",
              "smart_192_raw     0\n",
              "smart_197_raw     0\n",
              "smart_198_raw     0\n",
              "smart_199_raw     0\n",
              "smart_240_raw     0\n",
              "smart_241_raw     0\n",
              "smart_242_raw     0\n",
              "dtype: int64"
            ]
          },
          "execution_count": 5,
          "metadata": {},
          "output_type": "execute_result"
        }
      ],
      "source": [
        "df.isna().sum()"
      ]
    },
    {
      "cell_type": "code",
      "execution_count": null,
      "metadata": {
        "id": "7iIb_oU5nQn3",
        "outputId": "225bf8a4-d253-4b46-9b10-dcdc27b6f302"
      },
      "outputs": [
        {
          "data": {
            "text/plain": [
              "model\n",
              "ST14000NM001G    7320142\n",
              "Name: count, dtype: int64"
            ]
          },
          "execution_count": 23,
          "metadata": {},
          "output_type": "execute_result"
        }
      ],
      "source": [
        "df.model.value_counts()"
      ]
    },
    {
      "cell_type": "code",
      "execution_count": null,
      "metadata": {
        "id": "1yFxNJrcnQn4",
        "outputId": "046b384a-9bb0-454e-fd87-4337fba83bad"
      },
      "outputs": [
        {
          "data": {
            "text/plain": [
              "capacity_bytes\n",
              "14000519643136    7320142\n",
              "Name: count, dtype: int64"
            ]
          },
          "execution_count": 24,
          "metadata": {},
          "output_type": "execute_result"
        }
      ],
      "source": [
        "df.capacity_bytes.value_counts()"
      ]
    },
    {
      "cell_type": "code",
      "execution_count": null,
      "metadata": {
        "id": "KlRjj-onnQn4",
        "outputId": "c215b1f5-3b40-4e9d-b125-28f5fee48d71"
      },
      "outputs": [
        {
          "data": {
            "text/plain": [
              "serial_number\n",
              "ZLW17SJW    828\n",
              "ZLW18SLR    828\n",
              "ZLW18SGB    828\n",
              "ZLW17SF1    828\n",
              "ZLW18SB7    828\n",
              "           ... \n",
              "ZL2MH6QG      8\n",
              "ZL2MGQQS      8\n",
              "ZL2E7ET6      8\n",
              "ZL2CLE1S      5\n",
              "ZL2N88VG      1\n",
              "Name: count, Length: 10927, dtype: int64"
            ]
          },
          "execution_count": 5,
          "metadata": {},
          "output_type": "execute_result"
        }
      ],
      "source": [
        "df.serial_number.value_counts()"
      ]
    },
    {
      "cell_type": "code",
      "execution_count": null,
      "metadata": {
        "id": "TVGAOQnNnQn5",
        "outputId": "459f5972-ab2f-4a9f-bf43-1599bb7656fd"
      },
      "outputs": [
        {
          "data": {
            "text/plain": [
              "array([828, 824, 823, 819, 817, 816, 806, 805, 804, 803, 802, 799, 787,\n",
              "       782, 780, 771, 769, 768, 767, 766, 764, 763, 762, 761, 757, 754,\n",
              "       753, 751, 747, 743, 741, 740, 732, 725, 724, 720, 712, 710, 708,\n",
              "       706, 699, 698, 689, 688, 682, 678, 673, 672, 661, 660, 659, 657,\n",
              "       656, 653, 649, 646, 644, 643, 627, 626, 618, 617, 616, 614, 612,\n",
              "       607, 604, 603, 601, 599, 598, 596, 595, 594, 590, 588, 585, 584,\n",
              "       577, 576, 575, 574, 573, 572, 571, 570, 569, 568, 567, 564, 559,\n",
              "       558, 557, 554, 548, 538, 536, 535, 534, 533, 527, 522, 521, 517,\n",
              "       512, 511, 509, 508, 507, 506, 505, 504, 503, 502, 501, 498, 492,\n",
              "       489, 483, 480, 479, 471, 470, 468, 465, 463, 457, 452, 448, 447,\n",
              "       445, 444, 441, 440, 438, 434, 432, 431, 429, 425, 424, 421, 418,\n",
              "       416, 415, 413, 405, 403, 390, 387, 376, 371, 370, 361, 358, 356,\n",
              "       349, 347, 342, 341, 340, 339, 336, 333, 332, 327, 323, 321, 319,\n",
              "       316, 314, 312, 311, 308, 301, 300, 292, 289, 288, 285, 284, 283,\n",
              "       282, 281, 279, 275, 272, 271, 270, 268, 253, 245, 244, 242, 240,\n",
              "       237, 227, 225, 222, 221, 220, 213, 211, 207, 205, 201, 199, 198,\n",
              "       197, 196, 195, 193, 189, 188, 186, 181, 180, 175, 174, 173, 171,\n",
              "       170, 168, 167, 166, 165, 163, 162, 156, 155, 150, 146, 145, 144,\n",
              "       143, 142, 139, 137, 136, 134, 133, 129, 128, 125, 120, 113, 112,\n",
              "       111, 109, 107, 106, 105, 104, 103,  93,  92,  89,  88,  87,  85,\n",
              "        80,  78,  76,  72,  71,  68,  67,  65,  64,  63,  61,  58,  57,\n",
              "        56,  55,  53,  52,  51,  50,  48,  45,  44,  42,  41,  40,  29,\n",
              "        28,  27,  24,  20,  18,  14,  12,  10,   8,   5,   1])"
            ]
          },
          "execution_count": 35,
          "metadata": {},
          "output_type": "execute_result"
        }
      ],
      "source": [
        "df.serial_number.value_counts().unique()"
      ]
    },
    {
      "cell_type": "markdown",
      "metadata": {
        "id": "BksDROPgnQn6"
      },
      "source": [
        "* hdd has from 1 to 800 timestapms\n",
        "* in the each timestamp there are smart_raw values, so we have 10 timeserieses\n",
        "* column \"model\" is useless because it has only 1 unique value\n",
        "* for these reason column \"capacity_bytes\" is useless too\n",
        "* only \"smart_242_raw\" column has nonzero value in the each row"
      ]
    },
    {
      "cell_type": "code",
      "execution_count": null,
      "metadata": {
        "id": "vxrRhi3AnQn6",
        "outputId": "1863cd59-612d-4d28-cb7c-3014e79e85e7"
      },
      "outputs": [
        {
          "data": {
            "text/plain": [
              "2192999    0\n",
              "Name: failure, dtype: int64"
            ]
          },
          "execution_count": 16,
          "metadata": {},
          "output_type": "execute_result"
        }
      ],
      "source": [
        "df[df.serial_number == \"ZL2N88VG\"].failure"
      ]
    },
    {
      "cell_type": "code",
      "execution_count": null,
      "metadata": {
        "id": "bzGUZNN1nQn7",
        "outputId": "dbd4e494-2388-4765-e3e6-74a814dee0bf"
      },
      "outputs": [
        {
          "data": {
            "text/html": [
              "<div>\n",
              "<style scoped>\n",
              "    .dataframe tbody tr th:only-of-type {\n",
              "        vertical-align: middle;\n",
              "    }\n",
              "\n",
              "    .dataframe tbody tr th {\n",
              "        vertical-align: top;\n",
              "    }\n",
              "\n",
              "    .dataframe thead th {\n",
              "        text-align: right;\n",
              "    }\n",
              "</style>\n",
              "<table border=\"1\" class=\"dataframe\">\n",
              "  <thead>\n",
              "    <tr style=\"text-align: right;\">\n",
              "      <th></th>\n",
              "      <th>date</th>\n",
              "      <th>serial_number</th>\n",
              "      <th>model</th>\n",
              "      <th>capacity_bytes</th>\n",
              "      <th>failure</th>\n",
              "      <th>smart_5_raw</th>\n",
              "      <th>smart_9_raw</th>\n",
              "      <th>smart_187_raw</th>\n",
              "      <th>smart_188_raw</th>\n",
              "      <th>smart_192_raw</th>\n",
              "      <th>smart_197_raw</th>\n",
              "      <th>smart_198_raw</th>\n",
              "      <th>smart_199_raw</th>\n",
              "      <th>smart_240_raw</th>\n",
              "      <th>smart_241_raw</th>\n",
              "      <th>smart_242_raw</th>\n",
              "    </tr>\n",
              "  </thead>\n",
              "  <tbody>\n",
              "    <tr>\n",
              "      <th>0</th>\n",
              "      <td>2020-11-14</td>\n",
              "      <td>ZL201VZX</td>\n",
              "      <td>ST14000NM001G</td>\n",
              "      <td>14000519643136</td>\n",
              "      <td>0</td>\n",
              "      <td>0.0</td>\n",
              "      <td>23.0</td>\n",
              "      <td>0.0</td>\n",
              "      <td>0.0</td>\n",
              "      <td>0.0</td>\n",
              "      <td>0.0</td>\n",
              "      <td>0.0</td>\n",
              "      <td>0.0</td>\n",
              "      <td>0.0</td>\n",
              "      <td>0.000000e+00</td>\n",
              "      <td>2.406400e+04</td>\n",
              "    </tr>\n",
              "    <tr>\n",
              "      <th>1</th>\n",
              "      <td>2020-11-15</td>\n",
              "      <td>ZL201VZX</td>\n",
              "      <td>ST14000NM001G</td>\n",
              "      <td>14000519643136</td>\n",
              "      <td>0</td>\n",
              "      <td>0.0</td>\n",
              "      <td>55.0</td>\n",
              "      <td>0.0</td>\n",
              "      <td>0.0</td>\n",
              "      <td>0.0</td>\n",
              "      <td>0.0</td>\n",
              "      <td>0.0</td>\n",
              "      <td>0.0</td>\n",
              "      <td>0.0</td>\n",
              "      <td>0.000000e+00</td>\n",
              "      <td>3.451200e+04</td>\n",
              "    </tr>\n",
              "    <tr>\n",
              "      <th>2</th>\n",
              "      <td>2020-11-16</td>\n",
              "      <td>ZL201VZX</td>\n",
              "      <td>ST14000NM001G</td>\n",
              "      <td>14000519643136</td>\n",
              "      <td>0</td>\n",
              "      <td>0.0</td>\n",
              "      <td>70.0</td>\n",
              "      <td>0.0</td>\n",
              "      <td>0.0</td>\n",
              "      <td>0.0</td>\n",
              "      <td>0.0</td>\n",
              "      <td>0.0</td>\n",
              "      <td>0.0</td>\n",
              "      <td>0.0</td>\n",
              "      <td>0.000000e+00</td>\n",
              "      <td>3.744000e+04</td>\n",
              "    </tr>\n",
              "    <tr>\n",
              "      <th>3</th>\n",
              "      <td>2020-11-17</td>\n",
              "      <td>ZL201VZX</td>\n",
              "      <td>ST14000NM001G</td>\n",
              "      <td>14000519643136</td>\n",
              "      <td>0</td>\n",
              "      <td>0.0</td>\n",
              "      <td>85.0</td>\n",
              "      <td>0.0</td>\n",
              "      <td>0.0</td>\n",
              "      <td>0.0</td>\n",
              "      <td>0.0</td>\n",
              "      <td>0.0</td>\n",
              "      <td>0.0</td>\n",
              "      <td>0.0</td>\n",
              "      <td>0.000000e+00</td>\n",
              "      <td>4.036800e+04</td>\n",
              "    </tr>\n",
              "    <tr>\n",
              "      <th>4</th>\n",
              "      <td>2020-11-18</td>\n",
              "      <td>ZL201VZX</td>\n",
              "      <td>ST14000NM001G</td>\n",
              "      <td>14000519643136</td>\n",
              "      <td>0</td>\n",
              "      <td>0.0</td>\n",
              "      <td>117.0</td>\n",
              "      <td>0.0</td>\n",
              "      <td>0.0</td>\n",
              "      <td>0.0</td>\n",
              "      <td>0.0</td>\n",
              "      <td>0.0</td>\n",
              "      <td>0.0</td>\n",
              "      <td>0.0</td>\n",
              "      <td>0.000000e+00</td>\n",
              "      <td>5.139200e+04</td>\n",
              "    </tr>\n",
              "    <tr>\n",
              "      <th>...</th>\n",
              "      <td>...</td>\n",
              "      <td>...</td>\n",
              "      <td>...</td>\n",
              "      <td>...</td>\n",
              "      <td>...</td>\n",
              "      <td>...</td>\n",
              "      <td>...</td>\n",
              "      <td>...</td>\n",
              "      <td>...</td>\n",
              "      <td>...</td>\n",
              "      <td>...</td>\n",
              "      <td>...</td>\n",
              "      <td>...</td>\n",
              "      <td>...</td>\n",
              "      <td>...</td>\n",
              "      <td>...</td>\n",
              "    </tr>\n",
              "    <tr>\n",
              "      <th>759</th>\n",
              "      <td>2022-12-27</td>\n",
              "      <td>ZL201VZX</td>\n",
              "      <td>ST14000NM001G</td>\n",
              "      <td>14000519643136</td>\n",
              "      <td>0</td>\n",
              "      <td>0.0</td>\n",
              "      <td>18570.0</td>\n",
              "      <td>0.0</td>\n",
              "      <td>0.0</td>\n",
              "      <td>3.0</td>\n",
              "      <td>0.0</td>\n",
              "      <td>0.0</td>\n",
              "      <td>0.0</td>\n",
              "      <td>18002.0</td>\n",
              "      <td>1.027798e+11</td>\n",
              "      <td>2.614167e+11</td>\n",
              "    </tr>\n",
              "    <tr>\n",
              "      <th>760</th>\n",
              "      <td>2022-12-28</td>\n",
              "      <td>ZL201VZX</td>\n",
              "      <td>ST14000NM001G</td>\n",
              "      <td>14000519643136</td>\n",
              "      <td>0</td>\n",
              "      <td>0.0</td>\n",
              "      <td>18602.0</td>\n",
              "      <td>0.0</td>\n",
              "      <td>0.0</td>\n",
              "      <td>3.0</td>\n",
              "      <td>0.0</td>\n",
              "      <td>0.0</td>\n",
              "      <td>0.0</td>\n",
              "      <td>18034.0</td>\n",
              "      <td>1.028692e+11</td>\n",
              "      <td>2.617259e+11</td>\n",
              "    </tr>\n",
              "    <tr>\n",
              "      <th>761</th>\n",
              "      <td>2022-12-29</td>\n",
              "      <td>ZL201VZX</td>\n",
              "      <td>ST14000NM001G</td>\n",
              "      <td>14000519643136</td>\n",
              "      <td>0</td>\n",
              "      <td>0.0</td>\n",
              "      <td>18618.0</td>\n",
              "      <td>0.0</td>\n",
              "      <td>0.0</td>\n",
              "      <td>3.0</td>\n",
              "      <td>0.0</td>\n",
              "      <td>0.0</td>\n",
              "      <td>0.0</td>\n",
              "      <td>18050.0</td>\n",
              "      <td>1.029110e+11</td>\n",
              "      <td>2.619292e+11</td>\n",
              "    </tr>\n",
              "    <tr>\n",
              "      <th>762</th>\n",
              "      <td>2022-12-30</td>\n",
              "      <td>ZL201VZX</td>\n",
              "      <td>ST14000NM001G</td>\n",
              "      <td>14000519643136</td>\n",
              "      <td>0</td>\n",
              "      <td>0.0</td>\n",
              "      <td>18650.0</td>\n",
              "      <td>0.0</td>\n",
              "      <td>0.0</td>\n",
              "      <td>3.0</td>\n",
              "      <td>0.0</td>\n",
              "      <td>0.0</td>\n",
              "      <td>0.0</td>\n",
              "      <td>18082.0</td>\n",
              "      <td>1.030082e+11</td>\n",
              "      <td>2.624393e+11</td>\n",
              "    </tr>\n",
              "    <tr>\n",
              "      <th>763</th>\n",
              "      <td>2022-12-31</td>\n",
              "      <td>ZL201VZX</td>\n",
              "      <td>ST14000NM001G</td>\n",
              "      <td>14000519643136</td>\n",
              "      <td>0</td>\n",
              "      <td>0.0</td>\n",
              "      <td>18666.0</td>\n",
              "      <td>0.0</td>\n",
              "      <td>0.0</td>\n",
              "      <td>3.0</td>\n",
              "      <td>0.0</td>\n",
              "      <td>0.0</td>\n",
              "      <td>0.0</td>\n",
              "      <td>18097.0</td>\n",
              "      <td>1.030519e+11</td>\n",
              "      <td>2.627403e+11</td>\n",
              "    </tr>\n",
              "  </tbody>\n",
              "</table>\n",
              "<p>764 rows × 16 columns</p>\n",
              "</div>"
            ],
            "text/plain": [
              "           date serial_number          model  capacity_bytes  failure  \\\n",
              "0    2020-11-14      ZL201VZX  ST14000NM001G  14000519643136        0   \n",
              "1    2020-11-15      ZL201VZX  ST14000NM001G  14000519643136        0   \n",
              "2    2020-11-16      ZL201VZX  ST14000NM001G  14000519643136        0   \n",
              "3    2020-11-17      ZL201VZX  ST14000NM001G  14000519643136        0   \n",
              "4    2020-11-18      ZL201VZX  ST14000NM001G  14000519643136        0   \n",
              "..          ...           ...            ...             ...      ...   \n",
              "759  2022-12-27      ZL201VZX  ST14000NM001G  14000519643136        0   \n",
              "760  2022-12-28      ZL201VZX  ST14000NM001G  14000519643136        0   \n",
              "761  2022-12-29      ZL201VZX  ST14000NM001G  14000519643136        0   \n",
              "762  2022-12-30      ZL201VZX  ST14000NM001G  14000519643136        0   \n",
              "763  2022-12-31      ZL201VZX  ST14000NM001G  14000519643136        0   \n",
              "\n",
              "     smart_5_raw  smart_9_raw  smart_187_raw  smart_188_raw  smart_192_raw  \\\n",
              "0            0.0         23.0            0.0            0.0            0.0   \n",
              "1            0.0         55.0            0.0            0.0            0.0   \n",
              "2            0.0         70.0            0.0            0.0            0.0   \n",
              "3            0.0         85.0            0.0            0.0            0.0   \n",
              "4            0.0        117.0            0.0            0.0            0.0   \n",
              "..           ...          ...            ...            ...            ...   \n",
              "759          0.0      18570.0            0.0            0.0            3.0   \n",
              "760          0.0      18602.0            0.0            0.0            3.0   \n",
              "761          0.0      18618.0            0.0            0.0            3.0   \n",
              "762          0.0      18650.0            0.0            0.0            3.0   \n",
              "763          0.0      18666.0            0.0            0.0            3.0   \n",
              "\n",
              "     smart_197_raw  smart_198_raw  smart_199_raw  smart_240_raw  \\\n",
              "0              0.0            0.0            0.0            0.0   \n",
              "1              0.0            0.0            0.0            0.0   \n",
              "2              0.0            0.0            0.0            0.0   \n",
              "3              0.0            0.0            0.0            0.0   \n",
              "4              0.0            0.0            0.0            0.0   \n",
              "..             ...            ...            ...            ...   \n",
              "759            0.0            0.0            0.0        18002.0   \n",
              "760            0.0            0.0            0.0        18034.0   \n",
              "761            0.0            0.0            0.0        18050.0   \n",
              "762            0.0            0.0            0.0        18082.0   \n",
              "763            0.0            0.0            0.0        18097.0   \n",
              "\n",
              "     smart_241_raw  smart_242_raw  \n",
              "0     0.000000e+00   2.406400e+04  \n",
              "1     0.000000e+00   3.451200e+04  \n",
              "2     0.000000e+00   3.744000e+04  \n",
              "3     0.000000e+00   4.036800e+04  \n",
              "4     0.000000e+00   5.139200e+04  \n",
              "..             ...            ...  \n",
              "759   1.027798e+11   2.614167e+11  \n",
              "760   1.028692e+11   2.617259e+11  \n",
              "761   1.029110e+11   2.619292e+11  \n",
              "762   1.030082e+11   2.624393e+11  \n",
              "763   1.030519e+11   2.627403e+11  \n",
              "\n",
              "[764 rows x 16 columns]"
            ]
          },
          "execution_count": 25,
          "metadata": {},
          "output_type": "execute_result"
        }
      ],
      "source": [
        "df[df.serial_number == df.serial_number[0]]"
      ]
    },
    {
      "cell_type": "code",
      "execution_count": null,
      "metadata": {
        "id": "f5ZTxOFtnQn7",
        "outputId": "467fbd8d-3f26-4c3b-f46d-1d1bf7517914"
      },
      "outputs": [
        {
          "data": {
            "text/html": [
              "<div>\n",
              "<style scoped>\n",
              "    .dataframe tbody tr th:only-of-type {\n",
              "        vertical-align: middle;\n",
              "    }\n",
              "\n",
              "    .dataframe tbody tr th {\n",
              "        vertical-align: top;\n",
              "    }\n",
              "\n",
              "    .dataframe thead th {\n",
              "        text-align: right;\n",
              "    }\n",
              "</style>\n",
              "<table border=\"1\" class=\"dataframe\">\n",
              "  <thead>\n",
              "    <tr style=\"text-align: right;\">\n",
              "      <th></th>\n",
              "      <th>capacity_bytes</th>\n",
              "      <th>failure</th>\n",
              "      <th>smart_5_raw</th>\n",
              "      <th>smart_9_raw</th>\n",
              "      <th>smart_187_raw</th>\n",
              "      <th>smart_188_raw</th>\n",
              "      <th>smart_192_raw</th>\n",
              "      <th>smart_197_raw</th>\n",
              "      <th>smart_198_raw</th>\n",
              "      <th>smart_199_raw</th>\n",
              "      <th>smart_240_raw</th>\n",
              "      <th>smart_241_raw</th>\n",
              "      <th>smart_242_raw</th>\n",
              "    </tr>\n",
              "  </thead>\n",
              "  <tbody>\n",
              "    <tr>\n",
              "      <th>count</th>\n",
              "      <td>7.320142e+06</td>\n",
              "      <td>7.320142e+06</td>\n",
              "      <td>7.320142e+06</td>\n",
              "      <td>7.320142e+06</td>\n",
              "      <td>7.320142e+06</td>\n",
              "      <td>7.320142e+06</td>\n",
              "      <td>7.320142e+06</td>\n",
              "      <td>7.320142e+06</td>\n",
              "      <td>7.320142e+06</td>\n",
              "      <td>7.320142e+06</td>\n",
              "      <td>7.320142e+06</td>\n",
              "      <td>7.320142e+06</td>\n",
              "      <td>7.320142e+06</td>\n",
              "    </tr>\n",
              "    <tr>\n",
              "      <th>mean</th>\n",
              "      <td>1.400052e+13</td>\n",
              "      <td>2.349681e-05</td>\n",
              "      <td>6.281509e+00</td>\n",
              "      <td>8.845213e+03</td>\n",
              "      <td>8.674522e-01</td>\n",
              "      <td>1.091258e+09</td>\n",
              "      <td>1.821636e+00</td>\n",
              "      <td>9.649627e-01</td>\n",
              "      <td>9.649627e-01</td>\n",
              "      <td>1.150680e+00</td>\n",
              "      <td>8.405186e+03</td>\n",
              "      <td>6.291207e+10</td>\n",
              "      <td>1.389482e+11</td>\n",
              "    </tr>\n",
              "    <tr>\n",
              "      <th>std</th>\n",
              "      <td>0.000000e+00</td>\n",
              "      <td>4.847294e-03</td>\n",
              "      <td>3.428541e+02</td>\n",
              "      <td>5.246619e+03</td>\n",
              "      <td>6.976073e+01</td>\n",
              "      <td>6.852012e+09</td>\n",
              "      <td>5.832090e+01</td>\n",
              "      <td>1.621635e+02</td>\n",
              "      <td>1.621635e+02</td>\n",
              "      <td>1.440507e+01</td>\n",
              "      <td>5.217135e+03</td>\n",
              "      <td>2.500900e+10</td>\n",
              "      <td>9.987568e+10</td>\n",
              "    </tr>\n",
              "    <tr>\n",
              "      <th>min</th>\n",
              "      <td>1.400052e+13</td>\n",
              "      <td>0.000000e+00</td>\n",
              "      <td>0.000000e+00</td>\n",
              "      <td>0.000000e+00</td>\n",
              "      <td>0.000000e+00</td>\n",
              "      <td>0.000000e+00</td>\n",
              "      <td>0.000000e+00</td>\n",
              "      <td>0.000000e+00</td>\n",
              "      <td>0.000000e+00</td>\n",
              "      <td>0.000000e+00</td>\n",
              "      <td>0.000000e+00</td>\n",
              "      <td>0.000000e+00</td>\n",
              "      <td>4.480000e+03</td>\n",
              "    </tr>\n",
              "    <tr>\n",
              "      <th>25%</th>\n",
              "      <td>1.400052e+13</td>\n",
              "      <td>0.000000e+00</td>\n",
              "      <td>0.000000e+00</td>\n",
              "      <td>4.413000e+03</td>\n",
              "      <td>0.000000e+00</td>\n",
              "      <td>0.000000e+00</td>\n",
              "      <td>0.000000e+00</td>\n",
              "      <td>0.000000e+00</td>\n",
              "      <td>0.000000e+00</td>\n",
              "      <td>0.000000e+00</td>\n",
              "      <td>3.996000e+03</td>\n",
              "      <td>4.658594e+10</td>\n",
              "      <td>6.532481e+10</td>\n",
              "    </tr>\n",
              "    <tr>\n",
              "      <th>50%</th>\n",
              "      <td>1.400052e+13</td>\n",
              "      <td>0.000000e+00</td>\n",
              "      <td>0.000000e+00</td>\n",
              "      <td>8.527000e+03</td>\n",
              "      <td>0.000000e+00</td>\n",
              "      <td>0.000000e+00</td>\n",
              "      <td>0.000000e+00</td>\n",
              "      <td>0.000000e+00</td>\n",
              "      <td>0.000000e+00</td>\n",
              "      <td>0.000000e+00</td>\n",
              "      <td>8.089000e+03</td>\n",
              "      <td>6.707800e+10</td>\n",
              "      <td>1.216052e+11</td>\n",
              "    </tr>\n",
              "    <tr>\n",
              "      <th>75%</th>\n",
              "      <td>1.400052e+13</td>\n",
              "      <td>0.000000e+00</td>\n",
              "      <td>0.000000e+00</td>\n",
              "      <td>1.267500e+04</td>\n",
              "      <td>0.000000e+00</td>\n",
              "      <td>0.000000e+00</td>\n",
              "      <td>1.000000e+00</td>\n",
              "      <td>0.000000e+00</td>\n",
              "      <td>0.000000e+00</td>\n",
              "      <td>0.000000e+00</td>\n",
              "      <td>1.221100e+04</td>\n",
              "      <td>8.244256e+10</td>\n",
              "      <td>1.850526e+11</td>\n",
              "    </tr>\n",
              "    <tr>\n",
              "      <th>max</th>\n",
              "      <td>1.400052e+13</td>\n",
              "      <td>1.000000e+00</td>\n",
              "      <td>6.231200e+04</td>\n",
              "      <td>2.043600e+04</td>\n",
              "      <td>2.123800e+04</td>\n",
              "      <td>1.632112e+11</td>\n",
              "      <td>6.327000e+03</td>\n",
              "      <td>1.180960e+05</td>\n",
              "      <td>1.180960e+05</td>\n",
              "      <td>6.780000e+02</td>\n",
              "      <td>2.001500e+04</td>\n",
              "      <td>1.075645e+11</td>\n",
              "      <td>6.875500e+11</td>\n",
              "    </tr>\n",
              "  </tbody>\n",
              "</table>\n",
              "</div>"
            ],
            "text/plain": [
              "       capacity_bytes       failure   smart_5_raw   smart_9_raw  \\\n",
              "count    7.320142e+06  7.320142e+06  7.320142e+06  7.320142e+06   \n",
              "mean     1.400052e+13  2.349681e-05  6.281509e+00  8.845213e+03   \n",
              "std      0.000000e+00  4.847294e-03  3.428541e+02  5.246619e+03   \n",
              "min      1.400052e+13  0.000000e+00  0.000000e+00  0.000000e+00   \n",
              "25%      1.400052e+13  0.000000e+00  0.000000e+00  4.413000e+03   \n",
              "50%      1.400052e+13  0.000000e+00  0.000000e+00  8.527000e+03   \n",
              "75%      1.400052e+13  0.000000e+00  0.000000e+00  1.267500e+04   \n",
              "max      1.400052e+13  1.000000e+00  6.231200e+04  2.043600e+04   \n",
              "\n",
              "       smart_187_raw  smart_188_raw  smart_192_raw  smart_197_raw  \\\n",
              "count   7.320142e+06   7.320142e+06   7.320142e+06   7.320142e+06   \n",
              "mean    8.674522e-01   1.091258e+09   1.821636e+00   9.649627e-01   \n",
              "std     6.976073e+01   6.852012e+09   5.832090e+01   1.621635e+02   \n",
              "min     0.000000e+00   0.000000e+00   0.000000e+00   0.000000e+00   \n",
              "25%     0.000000e+00   0.000000e+00   0.000000e+00   0.000000e+00   \n",
              "50%     0.000000e+00   0.000000e+00   0.000000e+00   0.000000e+00   \n",
              "75%     0.000000e+00   0.000000e+00   1.000000e+00   0.000000e+00   \n",
              "max     2.123800e+04   1.632112e+11   6.327000e+03   1.180960e+05   \n",
              "\n",
              "       smart_198_raw  smart_199_raw  smart_240_raw  smart_241_raw  \\\n",
              "count   7.320142e+06   7.320142e+06   7.320142e+06   7.320142e+06   \n",
              "mean    9.649627e-01   1.150680e+00   8.405186e+03   6.291207e+10   \n",
              "std     1.621635e+02   1.440507e+01   5.217135e+03   2.500900e+10   \n",
              "min     0.000000e+00   0.000000e+00   0.000000e+00   0.000000e+00   \n",
              "25%     0.000000e+00   0.000000e+00   3.996000e+03   4.658594e+10   \n",
              "50%     0.000000e+00   0.000000e+00   8.089000e+03   6.707800e+10   \n",
              "75%     0.000000e+00   0.000000e+00   1.221100e+04   8.244256e+10   \n",
              "max     1.180960e+05   6.780000e+02   2.001500e+04   1.075645e+11   \n",
              "\n",
              "       smart_242_raw  \n",
              "count   7.320142e+06  \n",
              "mean    1.389482e+11  \n",
              "std     9.987568e+10  \n",
              "min     4.480000e+03  \n",
              "25%     6.532481e+10  \n",
              "50%     1.216052e+11  \n",
              "75%     1.850526e+11  \n",
              "max     6.875500e+11  "
            ]
          },
          "execution_count": 21,
          "metadata": {},
          "output_type": "execute_result"
        }
      ],
      "source": [
        "df.describe()"
      ]
    },
    {
      "cell_type": "code",
      "execution_count": null,
      "metadata": {
        "id": "UqAsSC3tnQn7",
        "outputId": "a4aebd6b-95c7-4ace-cd28-1c5fd6862ad9"
      },
      "outputs": [
        {
          "data": {
            "text/plain": [
              "failure\n",
              "0    7319970\n",
              "1        172\n",
              "Name: count, dtype: int64"
            ]
          },
          "execution_count": 20,
          "metadata": {},
          "output_type": "execute_result"
        }
      ],
      "source": [
        "# imbalanced classes\n",
        "df.failure.value_counts()"
      ]
    },
    {
      "cell_type": "code",
      "execution_count": null,
      "metadata": {
        "id": "EdXRoymFnQn8",
        "outputId": "7dceb388-3e9f-4332-fa08-75e5a251933d"
      },
      "outputs": [
        {
          "data": {
            "text/plain": [
              "(7320142, 16)"
            ]
          },
          "execution_count": 20,
          "metadata": {},
          "output_type": "execute_result"
        }
      ],
      "source": [
        "df.shape"
      ]
    },
    {
      "cell_type": "code",
      "execution_count": null,
      "metadata": {
        "id": "bGZaNcvsnQn8",
        "outputId": "cf4a66cc-8584-483f-b825-e0f1ebc5b5e9"
      },
      "outputs": [
        {
          "data": {
            "text/plain": [
              "(7320142, 16)"
            ]
          },
          "execution_count": 22,
          "metadata": {},
          "output_type": "execute_result"
        }
      ],
      "source": [
        "# there aren't any duplicates\n",
        "df.drop_duplicates()\n",
        "df.shape"
      ]
    },
    {
      "cell_type": "code",
      "execution_count": null,
      "metadata": {
        "id": "gCIBaDi6nQn9",
        "outputId": "e847b4da-8b48-4cd8-d8b5-1cec07cdebf3"
      },
      "outputs": [
        {
          "data": {
            "text/plain": [
              "Index(['capacity_bytes'], dtype='object')"
            ]
          },
          "execution_count": 7,
          "metadata": {},
          "output_type": "execute_result"
        }
      ],
      "source": [
        "cols = df.select_dtypes(np.number).columns\n",
        "var = df[cols].var()\n",
        "to_drop = var[abs(var) <= 1e-15].index\n",
        "to_drop"
      ]
    },
    {
      "cell_type": "code",
      "execution_count": null,
      "metadata": {
        "id": "kJoZD6nCnQn-",
        "outputId": "5796d9f3-1343-47f5-c090-293354354d08"
      },
      "outputs": [
        {
          "data": {
            "text/plain": [
              "['model', 'capacity_bytes']"
            ]
          },
          "execution_count": 9,
          "metadata": {},
          "output_type": "execute_result"
        }
      ],
      "source": [
        "cols_with_same_val = df.columns[df.nunique() <= 1].to_list()\n",
        "cols_with_same_val"
      ]
    },
    {
      "cell_type": "code",
      "execution_count": null,
      "metadata": {
        "id": "plX9EpEFnQn_",
        "outputId": "6e0721f7-127a-4a1b-b1b8-b7c32eec3426"
      },
      "outputs": [
        {
          "data": {
            "text/html": [
              "<div>\n",
              "<style scoped>\n",
              "    .dataframe tbody tr th:only-of-type {\n",
              "        vertical-align: middle;\n",
              "    }\n",
              "\n",
              "    .dataframe tbody tr th {\n",
              "        vertical-align: top;\n",
              "    }\n",
              "\n",
              "    .dataframe thead th {\n",
              "        text-align: right;\n",
              "    }\n",
              "</style>\n",
              "<table border=\"1\" class=\"dataframe\">\n",
              "  <thead>\n",
              "    <tr style=\"text-align: right;\">\n",
              "      <th></th>\n",
              "      <th>cnt_days</th>\n",
              "    </tr>\n",
              "    <tr>\n",
              "      <th>serial_number</th>\n",
              "      <th></th>\n",
              "    </tr>\n",
              "  </thead>\n",
              "  <tbody>\n",
              "    <tr>\n",
              "      <th>ZLW18S8D</th>\n",
              "      <td>12</td>\n",
              "    </tr>\n",
              "    <tr>\n",
              "      <th>ZLW18Q2L</th>\n",
              "      <td>44</td>\n",
              "    </tr>\n",
              "    <tr>\n",
              "      <th>ZLW18RJ9</th>\n",
              "      <td>45</td>\n",
              "    </tr>\n",
              "    <tr>\n",
              "      <th>ZLW18EFV</th>\n",
              "      <td>58</td>\n",
              "    </tr>\n",
              "    <tr>\n",
              "      <th>ZLW18EH8</th>\n",
              "      <td>65</td>\n",
              "    </tr>\n",
              "    <tr>\n",
              "      <th>...</th>\n",
              "      <td>...</td>\n",
              "    </tr>\n",
              "    <tr>\n",
              "      <th>ZLW18RYH</th>\n",
              "      <td>782</td>\n",
              "    </tr>\n",
              "    <tr>\n",
              "      <th>ZLW18RH8</th>\n",
              "      <td>787</td>\n",
              "    </tr>\n",
              "    <tr>\n",
              "      <th>ZLW18EFL</th>\n",
              "      <td>799</td>\n",
              "    </tr>\n",
              "    <tr>\n",
              "      <th>ZLW18MJ4</th>\n",
              "      <td>816</td>\n",
              "    </tr>\n",
              "    <tr>\n",
              "      <th>ZLW18ELY</th>\n",
              "      <td>819</td>\n",
              "    </tr>\n",
              "  </tbody>\n",
              "</table>\n",
              "<p>172 rows × 1 columns</p>\n",
              "</div>"
            ],
            "text/plain": [
              "               cnt_days\n",
              "serial_number          \n",
              "ZLW18S8D             12\n",
              "ZLW18Q2L             44\n",
              "ZLW18RJ9             45\n",
              "ZLW18EFV             58\n",
              "ZLW18EH8             65\n",
              "...                 ...\n",
              "ZLW18RYH            782\n",
              "ZLW18RH8            787\n",
              "ZLW18EFL            799\n",
              "ZLW18MJ4            816\n",
              "ZLW18ELY            819\n",
              "\n",
              "[172 rows x 1 columns]"
            ]
          },
          "execution_count": 23,
          "metadata": {},
          "output_type": "execute_result"
        }
      ],
      "source": [
        "fail_models = df[df.failure == 1].serial_number.to_list()\n",
        "num_work_time = df[df.serial_number.isin(fail_models)]\\\n",
        "    .groupby(\"serial_number\").agg({\"serial_number\": \"count\"})\n",
        "num_work_time.columns = [\"cnt_days\"]\n",
        "num_work_time = num_work_time.sort_values(\"cnt_days\")\n",
        "num_work_time"
      ]
    },
    {
      "cell_type": "code",
      "execution_count": null,
      "metadata": {
        "id": "d5SsXXaNnQn_",
        "outputId": "52d11d3b-3dd5-4bbc-8863-a9ce9dd268c3"
      },
      "outputs": [
        {
          "data": {
            "text/html": [
              "<div>\n",
              "<style scoped>\n",
              "    .dataframe tbody tr th:only-of-type {\n",
              "        vertical-align: middle;\n",
              "    }\n",
              "\n",
              "    .dataframe tbody tr th {\n",
              "        vertical-align: top;\n",
              "    }\n",
              "\n",
              "    .dataframe thead th {\n",
              "        text-align: right;\n",
              "    }\n",
              "</style>\n",
              "<table border=\"1\" class=\"dataframe\">\n",
              "  <thead>\n",
              "    <tr style=\"text-align: right;\">\n",
              "      <th></th>\n",
              "      <th>cnt_days</th>\n",
              "    </tr>\n",
              "  </thead>\n",
              "  <tbody>\n",
              "    <tr>\n",
              "      <th>count</th>\n",
              "      <td>172.000000</td>\n",
              "    </tr>\n",
              "    <tr>\n",
              "      <th>mean</th>\n",
              "      <td>477.645349</td>\n",
              "    </tr>\n",
              "    <tr>\n",
              "      <th>std</th>\n",
              "      <td>211.999577</td>\n",
              "    </tr>\n",
              "    <tr>\n",
              "      <th>min</th>\n",
              "      <td>12.000000</td>\n",
              "    </tr>\n",
              "    <tr>\n",
              "      <th>25%</th>\n",
              "      <td>306.250000</td>\n",
              "    </tr>\n",
              "    <tr>\n",
              "      <th>50%</th>\n",
              "      <td>517.000000</td>\n",
              "    </tr>\n",
              "    <tr>\n",
              "      <th>75%</th>\n",
              "      <td>653.750000</td>\n",
              "    </tr>\n",
              "    <tr>\n",
              "      <th>max</th>\n",
              "      <td>819.000000</td>\n",
              "    </tr>\n",
              "  </tbody>\n",
              "</table>\n",
              "</div>"
            ],
            "text/plain": [
              "         cnt_days\n",
              "count  172.000000\n",
              "mean   477.645349\n",
              "std    211.999577\n",
              "min     12.000000\n",
              "25%    306.250000\n",
              "50%    517.000000\n",
              "75%    653.750000\n",
              "max    819.000000"
            ]
          },
          "execution_count": 25,
          "metadata": {},
          "output_type": "execute_result"
        }
      ],
      "source": [
        "num_work_time.describe()"
      ]
    },
    {
      "cell_type": "code",
      "execution_count": null,
      "metadata": {
        "id": "fRVMXlbqnQn_",
        "outputId": "cfa45d60-c61f-4f25-a5a1-1d98f78ce59a"
      },
      "outputs": [
        {
          "data": {
            "text/html": [
              "<div>\n",
              "<style scoped>\n",
              "    .dataframe tbody tr th:only-of-type {\n",
              "        vertical-align: middle;\n",
              "    }\n",
              "\n",
              "    .dataframe tbody tr th {\n",
              "        vertical-align: top;\n",
              "    }\n",
              "\n",
              "    .dataframe thead th {\n",
              "        text-align: right;\n",
              "    }\n",
              "</style>\n",
              "<table border=\"1\" class=\"dataframe\">\n",
              "  <thead>\n",
              "    <tr style=\"text-align: right;\">\n",
              "      <th></th>\n",
              "      <th>cnt_days</th>\n",
              "    </tr>\n",
              "    <tr>\n",
              "      <th>serial_number</th>\n",
              "      <th></th>\n",
              "    </tr>\n",
              "  </thead>\n",
              "  <tbody>\n",
              "    <tr>\n",
              "      <th>ZLW18S8D</th>\n",
              "      <td>12</td>\n",
              "    </tr>\n",
              "  </tbody>\n",
              "</table>\n",
              "</div>"
            ],
            "text/plain": [
              "               cnt_days\n",
              "serial_number          \n",
              "ZLW18S8D             12"
            ]
          },
          "execution_count": 33,
          "metadata": {},
          "output_type": "execute_result"
        }
      ],
      "source": [
        "num_work_time.query(\"cnt_days < 31\")"
      ]
    },
    {
      "cell_type": "code",
      "execution_count": null,
      "metadata": {
        "id": "5R6ucI4wnQoA",
        "outputId": "a8457ea2-e99d-4961-a134-67884e722caf"
      },
      "outputs": [
        {
          "data": {
            "text/plain": [
              "16"
            ]
          },
          "execution_count": 76,
          "metadata": {},
          "output_type": "execute_result"
        }
      ],
      "source": [
        "df_num_days = df.groupby(\"serial_number\").agg({\"serial_number\": \"count\"})\n",
        "df_num_days.columns = [\"cnt_days\"]\n",
        "ser_nums = df_num_days.query(\"cnt_days > 40\").index.to_list()\n",
        "df_num_days.query(\"cnt_days < 41\").shape[0]"
      ]
    },
    {
      "cell_type": "code",
      "execution_count": null,
      "metadata": {
        "id": "ScCWIkMZnQoA",
        "outputId": "2ccef7e0-71c4-472c-f439-1c72701c092f"
      },
      "outputs": [
        {
          "name": "stderr",
          "output_type": "stream",
          "text": [
            "C:\\Users\\Lev\\AppData\\Local\\Temp\\ipykernel_2548\\3577883049.py:4: SettingWithCopyWarning: \n",
            "A value is trying to be set on a copy of a slice from a DataFrame.\n",
            "Try using .loc[row_indexer,col_indexer] = value instead\n",
            "\n",
            "See the caveats in the documentation: https://pandas.pydata.org/pandas-docs/stable/user_guide/indexing.html#returning-a-view-versus-a-copy\n",
            "  df_last_days.failure = df_last_days.failure.mask(df_last_days.serial_number.isin(fail_models), 1)\n"
          ]
        }
      ],
      "source": [
        "df_sorted = df[df.serial_number.isin(ser_nums)].sort_values([\"serial_number\", \"date\"], ascending=[True, True])\n",
        "df_last_days = df_sorted.groupby(\"serial_number\").tail(41)\n",
        "fail_models = df_last_days[df_last_days.failure == 1].serial_number.to_list()\n",
        "df_last_days.failure = df_last_days.failure.mask(df_last_days.serial_number.isin(fail_models), 1)"
      ]
    },
    {
      "cell_type": "code",
      "execution_count": null,
      "metadata": {
        "id": "b4oIoVHnnQoB"
      },
      "outputs": [],
      "source": [
        "# add some timeseries's features\n",
        "num_cols = df_last_days.select_dtypes(np.number)\\\n",
        "    .drop([\"capacity_bytes\", \"failure\"], axis=1).columns.to_list()\n",
        "def rolling(group):\n",
        "    if group.name in num_cols:\n",
        "        result = group.rolling(window=5, min_periods=1).mean()\n",
        "    else:\n",
        "        result = group\n",
        "    return result\n",
        "\n",
        "\n",
        "def lag(group, lg: int):\n",
        "    if group.name in num_cols:\n",
        "        result = group.shift(lg)\n",
        "        result.name = group.name + f\"_lag_{lg}\"\n",
        "    else:\n",
        "        result = group\n",
        "    return result\n",
        "\n",
        "\n",
        "roll_table = df_last_days.groupby('serial_number').transform(\n",
        "    rolling\n",
        ").drop([\"date\", \"model\", \"failure\", \"capacity_bytes\"], axis=1)\n",
        "roll_table.columns = [col + \"_roll_5\" for col in num_cols]\n",
        "\n",
        "lag5_table = df_last_days.groupby('serial_number').transform(\n",
        "    lag, lg=5\n",
        ").drop([\"date\", \"model\", \"failure\", \"capacity_bytes\"], axis=1)\n",
        "lag5_table.columns = [col + \"_lag_5\" for col in num_cols]\n",
        "\n",
        "lag7_table = df_last_days.groupby('serial_number').transform(\n",
        "    lag, lg=7\n",
        ").drop([\"date\", \"model\", \"failure\", \"capacity_bytes\"], axis=1)\n",
        "lag7_table.columns = [col + \"_lag_7\" for col in num_cols]\n",
        "\n",
        "lag10_table = df_last_days.groupby('serial_number').transform(\n",
        "    lag, lg=10\n",
        ").drop([\"date\", \"model\", \"failure\", \"capacity_bytes\"], axis=1)\n",
        "lag10_table.columns = [col + \"_lag_10\" for col in num_cols]\n",
        "\n",
        "tmp = pd.concat([\n",
        "    df_last_days, roll_table, lag5_table, lag7_table, lag10_table\n",
        "], axis=1, join=\"inner\").dropna(axis=0)\n",
        "tmp.to_csv(\"last_31_days_lag.csv\", index=False)"
      ]
    },
    {
      "cell_type": "code",
      "execution_count": null,
      "metadata": {
        "id": "BIN4WiRgnQoB"
      },
      "outputs": [],
      "source": [
        "df_last_days.to_csv(\"last_41_days.csv\")"
      ]
    },
    {
      "cell_type": "markdown",
      "metadata": {
        "id": "dh3ha8JxnQoC"
      },
      "source": [
        "# Work with data"
      ]
    },
    {
      "cell_type": "markdown",
      "metadata": {
        "id": "FM3S0iiLnQoC"
      },
      "source": [
        "## Functions"
      ]
    },
    {
      "cell_type": "code",
      "execution_count": null,
      "metadata": {
        "id": "nyfNF6KPnQoC"
      },
      "outputs": [],
      "source": [
        "def TrainValTestSplit(\n",
        "    df, y_data=None, ignore_cols=[\"date\", \"model\", \"serial_number\", \"capacity_bytes\", \"failure\"]\n",
        "):\n",
        "    \"\"\"\n",
        "    return:\n",
        "        if y_data is None:\n",
        "            (x_train, x_val, x_test, y_train, y_val, y_test)\n",
        "        else:\n",
        "            (x_train, x_test, y_train, y_test)\n",
        "    \"\"\"\n",
        "    if y_data is None:\n",
        "        df_good = df.loc[df.failure == 0]\n",
        "        df_bad = df.loc[df.failure == 1]\n",
        "\n",
        "        df_good = df_good.sort_values([\"date\"])\n",
        "        df_bad = df_bad.sort_values([\"date\"])\n",
        "\n",
        "        good_y = df_good[\"failure\"]\n",
        "        bad_y = df_bad[\"failure\"]\n",
        "    else:\n",
        "        df_good = df.loc[y_data == 0]\n",
        "        df_bad = df.loc[y_data == 1]\n",
        "\n",
        "        good_y = y_data[y_data == 0]\n",
        "        bad_y = y_data[y_data == 1]\n",
        "\n",
        "    # Split into train (80%), valid (20%) and test (20%)\n",
        "    x_train_good, x_test_good, y_train_good, y_test_good = train_test_split(\n",
        "        df_good, good_y, train_size=0.8, shuffle=False\n",
        "    )\n",
        "    x_train_bad, x_test_bad, y_train_bad, y_test_bad = train_test_split(\n",
        "        df_bad, bad_y, train_size=0.8, shuffle=False\n",
        "    )\n",
        "    if y_data is None:\n",
        "        x_train_good, x_val_good, y_train_good, y_val_good = train_test_split(\n",
        "            x_train_good, y_train_good, test_size=0.25, shuffle=False\n",
        "        )\n",
        "        x_train_bad, x_val_bad, y_train_bad, y_val_bad = train_test_split(\n",
        "            x_train_bad, y_train_bad, test_size=0.25, shuffle=False\n",
        "        )\n",
        "\n",
        "    x_train = pd.concat([x_train_good, x_train_bad], axis=0)\n",
        "    y_train = pd.concat([y_train_good, y_train_bad], axis=0)\n",
        "    x_test = pd.concat([x_test_good, x_test_bad], axis=0)\n",
        "    y_test = pd.concat([y_test_good, y_test_bad], axis=0)\n",
        "\n",
        "    if y_data is None:\n",
        "        x_train.drop(ignore_cols, axis=1, inplace=True)\n",
        "\n",
        "        x_val = pd.concat([x_val_good, x_val_bad], axis=0)\n",
        "        x_val.drop(ignore_cols, axis=1, inplace=True)\n",
        "        y_val = pd.concat([y_val_good, y_val_bad], axis=0)\n",
        "\n",
        "        x_test.drop(ignore_cols, axis=1, inplace=True)\n",
        "\n",
        "        return (x_train, x_val, x_test, y_train, y_val, y_test)\n",
        "\n",
        "    return (x_train, x_test, y_train, y_test)"
      ]
    },
    {
      "cell_type": "code",
      "execution_count": null,
      "metadata": {
        "id": "kB8pbOvhnQoD"
      },
      "outputs": [],
      "source": [
        "def FeatureTest(model, x_train, x_test, y_train, y_test) \\\n",
        "-> tuple[list[str], dict[str, list], dict[str, float]]:\n",
        "    '''\n",
        "    return:\n",
        "        (best_feature_name, list_best_features, score_dict)\n",
        "    '''\n",
        "    feature_list = {\n",
        "        \"stats\": [\n",
        "            'smart_5_raw',\n",
        "            'smart_9_raw',\n",
        "            'smart_241_raw',\n",
        "            'smart_242_raw',\n",
        "            'smart_5_raw_roll_5',\n",
        "            'smart_9_raw_roll_5',\n",
        "            'smart_241_raw_roll_5',\n",
        "            'smart_242_raw_roll_5',\n",
        "            'smart_9_raw_lag_5',\n",
        "            'smart_241_raw_lag_5',\n",
        "            'smart_242_raw_lag_5',\n",
        "            'smart_9_raw_lag_7',\n",
        "            'smart_241_raw_lag_7',\n",
        "            'smart_242_raw_lag_7',\n",
        "            'smart_9_raw_lag_10',\n",
        "            'smart_241_raw_lag_10',\n",
        "            'smart_242_raw_lag_10'\n",
        "        ],\n",
        "        \"paper\": [\n",
        "            'smart_5_raw',\n",
        "            'smart_5_raw_roll_5',\n",
        "            'smart_5_raw_lag_5',\n",
        "            'smart_5_raw_lag_7',\n",
        "            'smart_5_raw_lag_10',\n",
        "            'smart_187_raw',\n",
        "            'smart_187_raw_roll_5',\n",
        "            'smart_187_raw_lag_5',\n",
        "            'smart_187_raw_lag_7',\n",
        "            'smart_187_raw_lag_10',\n",
        "            'smart_188_raw',\n",
        "            'smart_188_raw_roll_5',\n",
        "            'smart_188_raw_lag_5',\n",
        "            'smart_188_raw_lag_7',\n",
        "            'smart_188_raw_lag_10',\n",
        "            'smart_197_raw',\n",
        "            'smart_197_raw_roll_5',\n",
        "            'smart_197_raw_lag_5',\n",
        "            'smart_197_raw_lag_7',\n",
        "            'smart_197_raw_lag_10'\n",
        "        ],\n",
        "        \"lasso\": ['smart_5_raw', 'smart_9_raw', 'smart_187_raw', 'smart_192_raw',\n",
        "            'smart_197_raw', 'smart_198_raw', 'smart_199_raw', 'smart_240_raw',\n",
        "            'smart_5_raw_roll_5', 'smart_9_raw_roll_5', 'smart_187_raw_roll_5',\n",
        "            'smart_192_raw_roll_5', 'smart_197_raw_roll_5',\n",
        "            'smart_198_raw_roll_5', 'smart_199_raw_roll_5',\n",
        "            'smart_240_raw_roll_5', 'smart_5_raw_lag_5', 'smart_9_raw_lag_5',\n",
        "            'smart_187_raw_lag_5', 'smart_192_raw_lag_5',\n",
        "            'smart_197_raw_lag_5', 'smart_198_raw_lag_5',\n",
        "            'smart_199_raw_lag_5', 'smart_240_raw_lag_5', 'smart_5_raw_lag_7',\n",
        "            'smart_187_raw_lag_7', 'smart_192_raw_lag_7',\n",
        "            'smart_197_raw_lag_7', 'smart_198_raw_lag_7',\n",
        "            'smart_199_raw_lag_7', 'smart_240_raw_lag_7', 'smart_5_raw_lag_10',\n",
        "            'smart_9_raw_lag_10', 'smart_187_raw_lag_10',\n",
        "            'smart_192_raw_lag_10', 'smart_197_raw_lag_10',\n",
        "            'smart_198_raw_lag_10', 'smart_199_raw_lag_10',\n",
        "            'smart_240_raw_lag_10'],\n",
        "        \"default\": x_train.columns.to_list()\n",
        "    }\n",
        "    feature_score = {}\n",
        "    mx = -1\n",
        "    best_features = \"\"\n",
        "    for feature in feature_list:\n",
        "        estimator = model()\n",
        "        estimator.fit(x_train.loc[:, feature_list[feature]], y_train)\n",
        "        feature_score[feature] = roc_auc_score(\n",
        "            y_test, estimator.predict(x_test.loc[:, feature_list[feature]])\n",
        "        )\n",
        "        if feature_score[feature] > mx:\n",
        "            mx = feature_score[feature]\n",
        "            best_features = feature\n",
        "    return (best_features, feature_list[best_features], feature_score)"
      ]
    },
    {
      "cell_type": "code",
      "execution_count": null,
      "metadata": {
        "id": "XNxtBfR2nQoE"
      },
      "outputs": [],
      "source": [
        "def DimReductionTest(model, x_train, x_test, y_train, y_test) \\\n",
        "-> tuple[str, dict[str, float]]:\n",
        "    '''\n",
        "    return: (\"method_name\", scores)\n",
        "    '''\n",
        "\n",
        "    scores = {}\n",
        "    pca = PCA(30)\n",
        "    x_train_tr = pca.fit_transform(x_train)\n",
        "    x_test_tr = pca.transform(x_test)\n",
        "    estimator = model().fit(x_train_tr, y_train)\n",
        "    scores[\"pca\"] = roc_auc_score(y_test, estimator.predict(x_test_tr))\n",
        "\n",
        "    rbf = RBFSampler(n_components=30)\n",
        "    x_train_tr = rbf.fit_transform(x_train)\n",
        "    x_test_tr = rbf.transform(x_test)\n",
        "    estimator = model().fit(x_train_tr, y_train)\n",
        "    scores[\"rbf\"] = roc_auc_score(y_test, estimator.predict(x_test_tr))\n",
        "\n",
        "    estimator = model().fit(x_train, y_train)\n",
        "    scores[\"default\"] = roc_auc_score(y_test, estimator.predict(x_test))\n",
        "\n",
        "    return max(scores.items(), key=lambda tup: tup[1])[0], scores"
      ]
    },
    {
      "cell_type": "code",
      "execution_count": null,
      "metadata": {
        "id": "C34vg6l-nQoF"
      },
      "outputs": [],
      "source": [
        "def BalancingClassTest(model, x_train, x_test, y_train, y_test)\\\n",
        "-> tuple[str, dict[str, float]]:\n",
        "    '''\n",
        "    find best balancing type: default, adasyn, smote\n",
        "\n",
        "    return:\n",
        "        (\"default\" | \"adasyn\" | \"smote\", scores)\n",
        "    '''\n",
        "    scores = []\n",
        "\n",
        "    adasyn = ADASYN(n_neighbors=5, random_state=42, sampling_strategy=\"minority\")\n",
        "    x_resampled, y_resampled = adasyn.fit_resample(x_train, y_train)\n",
        "    estimator = model().fit(x_resampled, y_resampled)\n",
        "    scores.append((roc_auc_score(y_test, estimator.predict(x_test)), \"adasyn\"))\n",
        "\n",
        "    smote = SMOTE(sampling_strategy=\"minority\")\n",
        "    x_resampled, y_resampled = smote.fit_resample(x_train, y_train)\n",
        "    estimator = model().fit(x_resampled, y_resampled)\n",
        "    scores.append((roc_auc_score(y_test, estimator.predict(x_test)), \"smote\"))\n",
        "\n",
        "    kmeanssmote = KMeansSMOTE(\n",
        "        random_state=42, sampling_strategy=\"minority\", cluster_balance_threshold=0.1\n",
        "    )\n",
        "    x_resampled, y_resampled = kmeanssmote.fit_resample(x_train, y_train)\n",
        "    estimator = model().fit(x_resampled, y_resampled)\n",
        "    scores.append((roc_auc_score(y_test, estimator.predict(x_test)), \"kmeanssmote\"))\n",
        "\n",
        "    if type(model()).__name__ == \"XGBClassifier\":\n",
        "      estimator = model(\n",
        "          scale_pos_weight=(sum(y_train == 0) / sum(y_train == 1))\n",
        "      ).fit(x_train, y_train)\n",
        "    else:\n",
        "      estimator = model(class_weight=\"balanced\").fit(x_train, y_train)\n",
        "    scores.append((roc_auc_score(y_test, estimator.predict(x_test)), \"default\"))\n",
        "\n",
        "    return max(scores, key=lambda x: x[0])[1], scores"
      ]
    },
    {
      "cell_type": "code",
      "execution_count": null,
      "metadata": {
        "id": "68A2yK-6nQoG"
      },
      "outputs": [],
      "source": [
        "def PreprocessingTest(model, df) -> None:\n",
        "    x_train, _, _, y_train, _, _ = TrainValTestSplit(df)\n",
        "    cols = x_train.columns\n",
        "    x_train, x_test, y_train, y_test = TrainValTestSplit(x_train, y_train)\n",
        "    balancing, balance_scores = BalancingClassTest(\n",
        "        model, x_train, x_test, y_train, y_test\n",
        "    )\n",
        "    print(f\"Balancing class: {balancing}\")\n",
        "    print(balance_scores)\n",
        "    print(100 * \"=\")\n",
        "    match balancing:\n",
        "        case \"adasyn\":\n",
        "            ada = ADASYN(n_neighbors=10, random_state=42, sampling_strategy=\"minority\")\n",
        "            x_train, y_train = ada.fit_resample(x_train, y_train)\n",
        "            x_train = pd.DataFrame(x_train, columns=cols)\n",
        "        case \"smote\":\n",
        "            smote = SMOTE(sampling_strategy=\"minority\")\n",
        "            x_train, y_train = smote.fit_resample(x_train, y_train)\n",
        "            x_train = pd.DataFrame(x_train, columns=cols)\n",
        "        case \"kmeanssmote\":\n",
        "            kmeanssmote = KMeansSMOTE(\n",
        "                random_state=42, sampling_strategy=\"minority\", cluster_balance_threshold=0.1\n",
        "            )\n",
        "            x_train, y_train = kmeanssmote.fit_resample(x_train, y_train)\n",
        "            x_train = pd.DataFrame(x_train, columns=cols)\n",
        "\n",
        "    reduction, dim_scores = DimReductionTest(\n",
        "        model, x_train, x_test, y_train, y_test\n",
        "    )\n",
        "    print(f\"Dimensionality reduction: {reduction}\")\n",
        "    print(dim_scores)\n",
        "    print(100 * \"=\")\n",
        "\n",
        "    feature_name, feature_selected, feat_scores = FeatureTest(\n",
        "        model, x_train, x_test, y_train, y_test\n",
        "    )\n",
        "    print(f\"Feature selection: {feature_name}\")\n",
        "    print(feat_scores)\n",
        "    print(100 * \"=\")\n",
        "\n",
        "    if feat_scores[feature_name] > dim_scores[reduction]:\n",
        "        x_train = x_train.loc[:, feature_selected]\n",
        "        print(\"\\nPrefer feature selected\\n\")\n",
        "    else:\n",
        "        print(\"\\nPrefer dimensionality reduction\\n\")"
      ]
    },
    {
      "cell_type": "markdown",
      "metadata": {
        "id": "iSLGluOnnQoG"
      },
      "source": [
        "## Feature selection"
      ]
    },
    {
      "cell_type": "markdown",
      "metadata": {
        "id": "nlTerPKSnQoH"
      },
      "source": [
        "Resume features extract:\n",
        "* by statistical dependency\n",
        "* by paper of related work\n",
        "* by logistic lasso select"
      ]
    },
    {
      "cell_type": "code",
      "execution_count": null,
      "metadata": {
        "id": "-94FzXyVnQoH"
      },
      "outputs": [],
      "source": [
        "# num_cols = ['smart_5_raw', 'smart_9_raw', 'smart_187_raw', 'smart_188_raw',\n",
        "#        'smart_192_raw', 'smart_197_raw', 'smart_198_raw', 'smart_199_raw',\n",
        "#        'smart_240_raw', 'smart_241_raw', 'smart_242_raw']\n",
        "x_train, y_train, x_val, y_val, x_test, y_test = TrainValTestSplit(df_last_days)\n",
        "num_cols = x_train.select_dtypes(np.number)\\\n",
        "    .drop([\"capacity_bytes\"], axis=1).columns.to_list()"
      ]
    },
    {
      "cell_type": "markdown",
      "metadata": {
        "id": "yvGYYk-4nQoQ"
      },
      "source": [
        "### Select from statistic"
      ]
    },
    {
      "cell_type": "code",
      "execution_count": null,
      "metadata": {
        "id": "VggsOSsinQoR"
      },
      "outputs": [],
      "source": [
        "f_selected, p_val = f_classif(x_train[num_cols], y_train)\n",
        "f_selected /= np.max(f_selected)\n",
        "mi_selected = mutual_info_classif(x_train[num_cols], y_train)\n",
        "mi_selected /= np.max(mi_selected)"
      ]
    },
    {
      "cell_type": "code",
      "execution_count": null,
      "metadata": {
        "id": "3HfWz2ZRnQoR",
        "outputId": "d6fa34e7-3a99-401a-83ed-436bf21d7a97"
      },
      "outputs": [
        {
          "data": {
            "image/png": "[encoded data removed]",
            "text/plain": [
              "<Figure size 640x480 with 1 Axes>"
            ]
          },
          "metadata": {},
          "output_type": "display_data"
        }
      ],
      "source": [
        "plt.plot(f_selected, label=\"f_test\")\n",
        "plt.xticks(ticks=range(len(num_cols)), labels=num_cols, rotation=90)\n",
        "plt.plot(mi_selected, label=\"mi\")\n",
        "plt.legend()\n",
        "plt.grid()\n",
        "plt.tight_layout()"
      ]
    },
    {
      "cell_type": "code",
      "execution_count": null,
      "metadata": {
        "id": "zirNom3PnQoR"
      },
      "outputs": [],
      "source": [
        "stats_feat_sel = np.array(num_cols)[(f_selected > 0.7) | (mi_selected > 0.7)].tolist()\n",
        "paper_feat_sel = [\n",
        "    col for name in [\n",
        "        \"smart_5_raw\", \"smart_187_raw\", \"smart_188_raw\", \"smart_197_raw\", \"smart_198_raw\"\n",
        "       ] for col in num_cols if col.startswith(name)\n",
        "\n",
        "]"
      ]
    },
    {
      "cell_type": "markdown",
      "metadata": {
        "id": "HnZ6mCaRnQoS"
      },
      "source": [
        "* del smart_198_raw due to the fact that it's strongly correlated with smart_197_raw\n",
        "and the last one has a bit more dependence to failure\n",
        "\n",
        "* del smart_240_raw and take smart_9_raw to replace it"
      ]
    },
    {
      "cell_type": "code",
      "execution_count": null,
      "metadata": {
        "id": "oVnB3YwYnQoT",
        "outputId": "653b7967-f186-4af8-a9c1-05b90d15a5a1"
      },
      "outputs": [
        {
          "data": {
            "text/plain": [
              "<Axes: >"
            ]
          },
          "execution_count": 41,
          "metadata": {},
          "output_type": "execute_result"
        },
        {
          "data": {
            "image/png": "[encoded data removed]",
            "text/plain": [
              "<Figure size 640x480 with 2 Axes>"
            ]
          },
          "metadata": {},
          "output_type": "display_data"
        }
      ],
      "source": [
        "correlated = x_train[\n",
        "    [\n",
        "        'smart_5_raw', 'smart_9_raw', 'smart_187_raw', 'smart_188_raw',\n",
        "        'smart_192_raw', 'smart_197_raw', 'smart_198_raw', 'smart_199_raw',\n",
        "        'smart_240_raw', 'smart_241_raw', 'smart_242_raw'\n",
        "    ]\n",
        "].corr()\n",
        "sns.heatmap(\n",
        "    correlated[(correlated > 0.5) | (correlated <= -0.5)],\n",
        "    cmap='viridis', vmax=1.0, vmin=-1.0, linewidths=0.1,\n",
        "    annot=True, annot_kws={\"size\": 8}, square=True\n",
        ")"
      ]
    },
    {
      "cell_type": "code",
      "execution_count": null,
      "metadata": {
        "id": "kIVQmPPAnQoT"
      },
      "outputs": [],
      "source": [
        "stats_feat_sel = [\n",
        "    col for col in stats_feat_sel if not col.startswith(\"smart_240_raw\") and \\\n",
        "        not col.startswith(\"smart_198_raw\")\n",
        "]\n",
        "paper_feat_sel = [\n",
        "    col for col in paper_feat_sel if not col.startswith(\"smart_240_raw\") and \\\n",
        "        not col.startswith(\"smart_198_raw\")\n",
        "]"
      ]
    },
    {
      "cell_type": "markdown",
      "metadata": {
        "id": "F1HM4QVrnQoU"
      },
      "source": [
        "### Select from model"
      ]
    },
    {
      "cell_type": "code",
      "execution_count": null,
      "metadata": {
        "id": "CszaTFk2nQoU",
        "outputId": "83147d12-94a5-4f2b-f48e-462f0f24c3a4"
      },
      "outputs": [
        {
          "name": "stderr",
          "output_type": "stream",
          "text": [
            "c:\\Users\\Lev\\source\\ml_project\\.venv\\Lib\\site-packages\\sklearn\\svm\\_base.py:1235: ConvergenceWarning: Liblinear failed to converge, increase the number of iterations.\n",
            "  warnings.warn(\n"
          ]
        },
        {
          "data": {
            "text/plain": [
              "array(['smart_5_raw', 'smart_9_raw', 'smart_187_raw', 'smart_192_raw',\n",
              "       'smart_197_raw', 'smart_198_raw', 'smart_199_raw', 'smart_240_raw',\n",
              "       'smart_5_raw_roll_5', 'smart_9_raw_roll_5', 'smart_187_raw_roll_5',\n",
              "       'smart_192_raw_roll_5', 'smart_197_raw_roll_5',\n",
              "       'smart_198_raw_roll_5', 'smart_199_raw_roll_5',\n",
              "       'smart_240_raw_roll_5', 'smart_5_raw_lag_5', 'smart_9_raw_lag_5',\n",
              "       'smart_187_raw_lag_5', 'smart_192_raw_lag_5',\n",
              "       'smart_197_raw_lag_5', 'smart_198_raw_lag_5',\n",
              "       'smart_199_raw_lag_5', 'smart_240_raw_lag_5', 'smart_5_raw_lag_7',\n",
              "       'smart_187_raw_lag_7', 'smart_192_raw_lag_7',\n",
              "       'smart_197_raw_lag_7', 'smart_198_raw_lag_7',\n",
              "       'smart_199_raw_lag_7', 'smart_240_raw_lag_7', 'smart_5_raw_lag_10',\n",
              "       'smart_9_raw_lag_10', 'smart_187_raw_lag_10',\n",
              "       'smart_192_raw_lag_10', 'smart_197_raw_lag_10',\n",
              "       'smart_198_raw_lag_10', 'smart_199_raw_lag_10',\n",
              "       'smart_240_raw_lag_10'], dtype=object)"
            ]
          },
          "execution_count": 110,
          "metadata": {},
          "output_type": "execute_result"
        }
      ],
      "source": [
        "logistic_feat_sel = SelectFromModel(LogisticRegression(\n",
        "    \"l1\", class_weight=\"balanced\", solver=\"liblinear\", max_iter=1500, C=0.8)\n",
        ").fit(x_train.loc[:, num_cols], y_train).get_feature_names_out(num_cols)\n",
        "logistic_feat_sel"
      ]
    },
    {
      "cell_type": "markdown",
      "metadata": {
        "id": "tipnoABBnQoV"
      },
      "source": [
        "## Dimensionality reduction"
      ]
    },
    {
      "cell_type": "code",
      "execution_count": null,
      "metadata": {
        "id": "woKDdMiLnQoV",
        "outputId": "29a82c9b-df98-4652-c11a-c4bab103bdb4"
      },
      "outputs": [
        {
          "data": {
            "image/png": "[encoded data removed]",
            "text/plain": [
              "<Figure size 640x480 with 1 Axes>"
            ]
          },
          "metadata": {},
          "output_type": "display_data"
        },
        {
          "name": "stdout",
          "output_type": "stream",
          "text": [
            "[0.98765971 0.99554331 0.99995792 0.99999252 0.99999722 0.99999817\n",
            " 0.99999898 0.99999943 0.99999971 0.99999986 0.99999991 0.99999996\n",
            " 0.99999999 1.         1.         1.         1.         1.\n",
            " 1.         1.         1.         1.         1.         1.\n",
            " 1.         1.         1.         1.         1.         1.\n",
            " 1.         1.         1.         1.         1.         1.\n",
            " 1.         1.         1.         1.         1.         1.\n",
            " 1.         1.         1.         1.         1.         1.\n",
            " 1.         1.         1.         1.         1.         1.\n",
            " 1.        ]\n"
          ]
        }
      ],
      "source": [
        "pca = PCA()\n",
        "pca.fit(x_train[num_cols])\n",
        "explained_var = np.cumsum(pca.explained_variance_ratio_)\n",
        "plt.plot(explained_var)\n",
        "plt.title(\"explained variance\")\n",
        "plt.xlabel(\"number of principal component\");\n",
        "plt.show()\n",
        "print(explained_var)"
      ]
    },
    {
      "cell_type": "code",
      "execution_count": null,
      "metadata": {
        "id": "uL7qR6OAnQoV",
        "outputId": "fc21bb6e-c290-43b3-d10b-971a3c3ab724"
      },
      "outputs": [
        {
          "data": {
            "image/png": "[encoded data removed]",
            "text/plain": [
              "<Figure size 640x480 with 1 Axes>"
            ]
          },
          "metadata": {},
          "output_type": "display_data"
        }
      ],
      "source": [
        "pca = PCA()\n",
        "pca.fit(x_train[num_cols])\n",
        "plt.scatter(\n",
        "    pca.transform(x_train.loc[y_train == 1, num_cols])[:, 0],\n",
        "    pca.transform(x_train.loc[y_train == 1, num_cols])[:, 1],\n",
        "    label=\"fail\", marker=\".\"\n",
        ");\n",
        "plt.scatter(\n",
        "    pca.transform(x_train.loc[y_train == 0, num_cols])[:, 0],\n",
        "    pca.transform(x_train.loc[y_train == 0, num_cols])[:, 1],\n",
        "    label=\"normal\", marker=\"o\", alpha=0.2\n",
        ");\n",
        "plt.legend()\n",
        "plt.show()"
      ]
    },
    {
      "cell_type": "code",
      "execution_count": null,
      "metadata": {
        "id": "31EQeV7RnQoW"
      },
      "outputs": [],
      "source": [
        "rbf = RBFSampler(n_components=30).fit(x_train)\n",
        "plt.scatter(\n",
        "    rbf.transform(x_train.loc[y_train == 1, num_cols])[:, 0],\n",
        "    rbf.transform(x_train.loc[y_train == 1, num_cols])[:, 1],\n",
        "    label=\"fail\", marker=\".\"\n",
        ");\n",
        "plt.scatter(\n",
        "    rbf.transform(x_train.loc[y_train == 0, num_cols])[:, 0],\n",
        "    rbf.transform(x_train.loc[y_train == 0, num_cols])[:, 1],\n",
        "    label=\"normal\", marker=\"o\", alpha=0.2\n",
        ");\n",
        "plt.legend()\n",
        "plt.show()"
      ]
    },
    {
      "cell_type": "markdown",
      "metadata": {
        "id": "zY_goSn0nQoW"
      },
      "source": [
        "## Class balancing"
      ]
    },
    {
      "cell_type": "code",
      "execution_count": null,
      "metadata": {
        "id": "7_MsrQmonQoX"
      },
      "outputs": [],
      "source": [
        "adasyn = ADASYN(n_neighbors=10, random_state=42, sampling_strategy=\"minority\")\n",
        "x_resampled, y_resampled = adasyn.fit_resample(x_train[num_cols], y_train)\n",
        "y_resampled.value_counts()"
      ]
    },
    {
      "cell_type": "code",
      "execution_count": null,
      "metadata": {
        "id": "0pNdATp6nQoX",
        "outputId": "bc8e5322-76b0-4a8e-8e10-677238343b3b"
      },
      "outputs": [
        {
          "data": {
            "text/plain": [
              "failure\n",
              "0    266352\n",
              "1    266352\n",
              "Name: count, dtype: int64"
            ]
          },
          "execution_count": 100,
          "metadata": {},
          "output_type": "execute_result"
        }
      ],
      "source": [
        "kmeanssmote = KMeansSMOTE(\n",
        "    random_state=42, sampling_strategy=\"minority\", cluster_balance_threshold=0.1\n",
        ")\n",
        "x_resampled, y_resampled = kmeanssmote.fit_resample(x_train[num_cols], y_train)\n",
        "y_resampled.value_counts()"
      ]
    },
    {
      "cell_type": "markdown",
      "metadata": {
        "id": "9Q_CIQtunQoY"
      },
      "source": [
        "## Model evaluation"
      ]
    },
    {
      "cell_type": "markdown",
      "metadata": {
        "id": "_juxxu2znQoY"
      },
      "source": [
        "Define to use:\n",
        "* XGBClassifier\n",
        "* BalancedRandomForestClassifier\n",
        "* RandomForestClassifier\n",
        "* IsolationForest"
      ]
    },
    {
      "cell_type": "code",
      "source": [
        "from google.colab import drive\n",
        "drive.mount('/content/drive')"
      ],
      "metadata": {
        "colab": {
          "base_uri": "https://localhost:8080/"
        },
        "id": "tgBQhaNPnd6l",
        "outputId": "728bc3c9-b01e-4009-93ce-8922645ce3c9"
      },
      "execution_count": null,
      "outputs": [
        {
          "output_type": "stream",
          "name": "stdout",
          "text": [
            "Mounted at /content/drive\n"
          ]
        }
      ]
    },
    {
      "cell_type": "code",
      "source": [
        "df_last_days = pd.read_csv(\"/content/drive/MyDrive/last_31_days_lag.csv\", parse_dates=[\"date\"])"
      ],
      "metadata": {
        "id": "89WmXFL8W1Bq"
      },
      "execution_count": null,
      "outputs": []
    },
    {
      "cell_type": "markdown",
      "metadata": {
        "id": "8sqv1KmbnQoZ"
      },
      "source": [
        "### XGBClassifier"
      ]
    },
    {
      "cell_type": "markdown",
      "source": [
        "Preprocessing: ADASYN(n_neighbors=5)"
      ],
      "metadata": {
        "id": "UV5OCaw_qpmI"
      }
    },
    {
      "cell_type": "code",
      "execution_count": null,
      "metadata": {
        "colab": {
          "base_uri": "https://localhost:8080/"
        },
        "id": "bubvr98dnQoZ",
        "outputId": "3ce863d0-b060-46b6-c456-00fb5fc73f89",
        "collapsed": true
      },
      "outputs": [
        {
          "output_type": "stream",
          "name": "stdout",
          "text": [
            "Balancing class: adasyn\n",
            "[(0.9368941682577658, 'adasyn'), (0.9219445466347487, 'smote'), (0.6941323311179944, 'kmeanssmote'), (0.8153949601473556, 'default')]\n",
            "====================================================================================================\n",
            "Dimensionality reduction: default\n",
            "{'pca': 0.7422362195390905, 'rbf': 0.4896541958814185, 'default': 0.8968498874542368}\n",
            "====================================================================================================\n",
            "Feature selection: default\n",
            "{'stats': 0.7544041135126226, 'paper': 0.7381029037735692, 'lasso': 0.6153157436402868, 'default': 0.8968498874542368}\n",
            "====================================================================================================\n",
            "\n",
            "Prefer dimensionality reduction\n",
            "\n"
          ]
        }
      ],
      "source": [
        "PreprocessingTest(XGBClassifier, df_last_days)"
      ]
    },
    {
      "cell_type": "code",
      "source": [
        "x_train, x_val, x_test, y_train, y_val, y_test = TrainValTestSplit(df_last_days)"
      ],
      "metadata": {
        "id": "jqVoZM_8j7HX"
      },
      "execution_count": null,
      "outputs": []
    },
    {
      "cell_type": "code",
      "source": [
        "estimator = XGBClassifier(eval_metric=\"auc\", early_sopping_rounds=30)\n",
        "\n",
        "estimator.fit(x_train, y_train)"
      ],
      "metadata": {
        "colab": {
          "base_uri": "https://localhost:8080/",
          "height": 1000
        },
        "collapsed": true,
        "id": "xM-Euz2f2aaQ",
        "outputId": "2c2d44cf-023c-456e-9d01-7bd37065c213"
      },
      "execution_count": null,
      "outputs": [
        {
          "output_type": "stream",
          "name": "stdout",
          "text": [
            "[07:54:55] ======== Monitor (0): HostSketchContainer ========\n",
            "[07:54:55] AllReduce: 0.077231s, 1 calls @ 77231us\n",
            "\n",
            "[07:54:55] MakeCuts: 0.091331s, 1 calls @ 91331us\n",
            "\n",
            "[07:54:55] DEBUG: /workspace/src/gbm/gbtree.cc:130: Using tree method: 0\n"
          ]
        },
        {
          "output_type": "stream",
          "name": "stderr",
          "text": [
            "/usr/local/lib/python3.10/dist-packages/xgboost/core.py:158: UserWarning: [07:54:55] WARNING: /workspace/src/learner.cc:740: \n",
            "Parameters: { \"early_sopping_rounds\" } are not used.\n",
            "\n",
            "  warnings.warn(smsg, UserWarning)\n"
          ]
        },
        {
          "output_type": "stream",
          "name": "stdout",
          "text": [
            "[07:55:07] ======== Monitor (0): Learner ========\n",
            "[07:55:07] Configure: 0.002095s, 1 calls @ 2095us\n",
            "\n",
            "[07:55:07] EvalOneIter: 0.001258s, 100 calls @ 1258us\n",
            "\n",
            "[07:55:07] GetGradient: 0.557448s, 100 calls @ 557448us\n",
            "\n",
            "[07:55:07] PredictRaw: 0.000343s, 100 calls @ 343us\n",
            "\n",
            "[07:55:07] UpdateOneIter: 11.1069s, 100 calls @ 11106918us\n",
            "\n",
            "[07:55:07] ======== Monitor (0): GBTree ========\n",
            "[07:55:07] BoostNewTrees: 10.5291s, 100 calls @ 10529134us\n",
            "\n",
            "[07:55:07] CommitModel: 0.000136s, 100 calls @ 136us\n",
            "\n",
            "[07:55:07] ======== Monitor (0): HistUpdater ========\n",
            "[07:55:07] BuildHistogram: 4.75082s, 500 calls @ 4750818us\n",
            "\n",
            "[07:55:07] EvaluateSplits: 0.98115s, 600 calls @ 981150us\n",
            "\n",
            "[07:55:07] InitData: 0.223528s, 100 calls @ 223528us\n",
            "\n",
            "[07:55:07] InitRoot: 2.67468s, 100 calls @ 2674676us\n",
            "\n",
            "[07:55:07] LeafPartition: 3.4e-05s, 100 calls @ 34us\n",
            "\n",
            "[07:55:07] UpdatePosition: 1.85675s, 600 calls @ 1856753us\n",
            "\n",
            "[07:55:07] UpdatePredictionCache: 0.136298s, 100 calls @ 136298us\n",
            "\n",
            "[07:55:07] UpdateTree: 10.3831s, 100 calls @ 10383091us\n",
            "\n"
          ]
        },
        {
          "output_type": "error",
          "ename": "XGBoostError",
          "evalue": "value 10 for Parameter verbosity exceed bound [0,3]\nverbosity: Flag to print out detailed breakdown of runtime.",
          "traceback": [
            "\u001b[0;31m---------------------------------------------------------------------------\u001b[0m",
            "\u001b[0;31mXGBoostError\u001b[0m                              Traceback (most recent call last)",
            "\u001b[0;32m<ipython-input-52-673be33a720c>\u001b[0m in \u001b[0;36m<cell line: 2>\u001b[0;34m()\u001b[0m\n\u001b[1;32m      1\u001b[0m \u001b[0mestimator\u001b[0m \u001b[0;34m=\u001b[0m \u001b[0mXGBClassifier\u001b[0m\u001b[0;34m(\u001b[0m\u001b[0meval_metric\u001b[0m\u001b[0;34m=\u001b[0m\u001b[0;34m\"auc\"\u001b[0m\u001b[0;34m,\u001b[0m \u001b[0mearly_sopping_rounds\u001b[0m\u001b[0;34m=\u001b[0m\u001b[0;36m30\u001b[0m\u001b[0;34m)\u001b[0m\u001b[0;34m\u001b[0m\u001b[0;34m\u001b[0m\u001b[0m\n\u001b[0;32m----> 2\u001b[0;31m \u001b[0mestimator\u001b[0m\u001b[0;34m.\u001b[0m\u001b[0mfit\u001b[0m\u001b[0;34m(\u001b[0m\u001b[0mx_train\u001b[0m\u001b[0;34m,\u001b[0m \u001b[0my_train\u001b[0m\u001b[0;34m,\u001b[0m \u001b[0mverbose\u001b[0m\u001b[0;34m=\u001b[0m\u001b[0;36m10\u001b[0m\u001b[0;34m)\u001b[0m\u001b[0;34m\u001b[0m\u001b[0;34m\u001b[0m\u001b[0m\n\u001b[0m",
            "\u001b[0;32m/usr/local/lib/python3.10/dist-packages/xgboost/core.py\u001b[0m in \u001b[0;36minner_f\u001b[0;34m(*args, **kwargs)\u001b[0m\n\u001b[1;32m    724\u001b[0m             \u001b[0;32mfor\u001b[0m \u001b[0mk\u001b[0m\u001b[0;34m,\u001b[0m \u001b[0marg\u001b[0m \u001b[0;32min\u001b[0m \u001b[0mzip\u001b[0m\u001b[0;34m(\u001b[0m\u001b[0msig\u001b[0m\u001b[0;34m.\u001b[0m\u001b[0mparameters\u001b[0m\u001b[0;34m,\u001b[0m \u001b[0margs\u001b[0m\u001b[0;34m)\u001b[0m\u001b[0;34m:\u001b[0m\u001b[0;34m\u001b[0m\u001b[0;34m\u001b[0m\u001b[0m\n\u001b[1;32m    725\u001b[0m                 \u001b[0mkwargs\u001b[0m\u001b[0;34m[\u001b[0m\u001b[0mk\u001b[0m\u001b[0;34m]\u001b[0m \u001b[0;34m=\u001b[0m \u001b[0marg\u001b[0m\u001b[0;34m\u001b[0m\u001b[0;34m\u001b[0m\u001b[0m\n\u001b[0;32m--> 726\u001b[0;31m             \u001b[0;32mreturn\u001b[0m \u001b[0mfunc\u001b[0m\u001b[0;34m(\u001b[0m\u001b[0;34m**\u001b[0m\u001b[0mkwargs\u001b[0m\u001b[0;34m)\u001b[0m\u001b[0;34m\u001b[0m\u001b[0;34m\u001b[0m\u001b[0m\n\u001b[0m\u001b[1;32m    727\u001b[0m \u001b[0;34m\u001b[0m\u001b[0m\n\u001b[1;32m    728\u001b[0m         \u001b[0;32mreturn\u001b[0m \u001b[0minner_f\u001b[0m\u001b[0;34m\u001b[0m\u001b[0;34m\u001b[0m\u001b[0m\n",
            "\u001b[0;32m/usr/local/lib/python3.10/dist-packages/xgboost/sklearn.py\u001b[0m in \u001b[0;36mfit\u001b[0;34m(self, X, y, sample_weight, base_margin, eval_set, verbose, xgb_model, sample_weight_eval_set, base_margin_eval_set, feature_weights)\u001b[0m\n\u001b[1;32m   1464\u001b[0m     ) -> \"XGBClassifier\":\n\u001b[1;32m   1465\u001b[0m         \u001b[0;31m# pylint: disable = attribute-defined-outside-init,too-many-statements\u001b[0m\u001b[0;34m\u001b[0m\u001b[0;34m\u001b[0m\u001b[0m\n\u001b[0;32m-> 1466\u001b[0;31m         \u001b[0;32mwith\u001b[0m \u001b[0mconfig_context\u001b[0m\u001b[0;34m(\u001b[0m\u001b[0mverbosity\u001b[0m\u001b[0;34m=\u001b[0m\u001b[0mself\u001b[0m\u001b[0;34m.\u001b[0m\u001b[0mverbosity\u001b[0m\u001b[0;34m)\u001b[0m\u001b[0;34m:\u001b[0m\u001b[0;34m\u001b[0m\u001b[0;34m\u001b[0m\u001b[0m\n\u001b[0m\u001b[1;32m   1467\u001b[0m             \u001b[0mevals_result\u001b[0m\u001b[0;34m:\u001b[0m \u001b[0mTrainingCallback\u001b[0m\u001b[0;34m.\u001b[0m\u001b[0mEvalsLog\u001b[0m \u001b[0;34m=\u001b[0m \u001b[0;34m{\u001b[0m\u001b[0;34m}\u001b[0m\u001b[0;34m\u001b[0m\u001b[0;34m\u001b[0m\u001b[0m\n\u001b[1;32m   1468\u001b[0m             \u001b[0;31m# We keep the n_classes_ as a simple member instead of loading it from\u001b[0m\u001b[0;34m\u001b[0m\u001b[0;34m\u001b[0m\u001b[0m\n",
            "\u001b[0;32m/usr/lib/python3.10/contextlib.py\u001b[0m in \u001b[0;36m__exit__\u001b[0;34m(self, typ, value, traceback)\u001b[0m\n\u001b[1;32m    140\u001b[0m         \u001b[0;32mif\u001b[0m \u001b[0mtyp\u001b[0m \u001b[0;32mis\u001b[0m \u001b[0;32mNone\u001b[0m\u001b[0;34m:\u001b[0m\u001b[0;34m\u001b[0m\u001b[0;34m\u001b[0m\u001b[0m\n\u001b[1;32m    141\u001b[0m             \u001b[0;32mtry\u001b[0m\u001b[0;34m:\u001b[0m\u001b[0;34m\u001b[0m\u001b[0;34m\u001b[0m\u001b[0m\n\u001b[0;32m--> 142\u001b[0;31m                 \u001b[0mnext\u001b[0m\u001b[0;34m(\u001b[0m\u001b[0mself\u001b[0m\u001b[0;34m.\u001b[0m\u001b[0mgen\u001b[0m\u001b[0;34m)\u001b[0m\u001b[0;34m\u001b[0m\u001b[0;34m\u001b[0m\u001b[0m\n\u001b[0m\u001b[1;32m    143\u001b[0m             \u001b[0;32mexcept\u001b[0m \u001b[0mStopIteration\u001b[0m\u001b[0;34m:\u001b[0m\u001b[0;34m\u001b[0m\u001b[0;34m\u001b[0m\u001b[0m\n\u001b[1;32m    144\u001b[0m                 \u001b[0;32mreturn\u001b[0m \u001b[0;32mFalse\u001b[0m\u001b[0;34m\u001b[0m\u001b[0;34m\u001b[0m\u001b[0m\n",
            "\u001b[0;32m/usr/local/lib/python3.10/dist-packages/xgboost/config.py\u001b[0m in \u001b[0;36mconfig_context\u001b[0;34m(**new_config)\u001b[0m\n\u001b[1;32m    184\u001b[0m         \u001b[0;32myield\u001b[0m\u001b[0;34m\u001b[0m\u001b[0;34m\u001b[0m\u001b[0m\n\u001b[1;32m    185\u001b[0m     \u001b[0;32mfinally\u001b[0m\u001b[0;34m:\u001b[0m\u001b[0;34m\u001b[0m\u001b[0;34m\u001b[0m\u001b[0m\n\u001b[0;32m--> 186\u001b[0;31m         \u001b[0mset_config\u001b[0m\u001b[0;34m(\u001b[0m\u001b[0;34m**\u001b[0m\u001b[0mold_config\u001b[0m\u001b[0;34m)\u001b[0m\u001b[0;34m\u001b[0m\u001b[0;34m\u001b[0m\u001b[0m\n\u001b[0m",
            "\u001b[0;32m/usr/local/lib/python3.10/dist-packages/xgboost/config.py\u001b[0m in \u001b[0;36mwrap\u001b[0;34m(*args, **kwargs)\u001b[0m\n\u001b[1;32m    106\u001b[0m         \u001b[0;34m@\u001b[0m\u001b[0mwraps\u001b[0m\u001b[0;34m(\u001b[0m\u001b[0mfunc\u001b[0m\u001b[0;34m)\u001b[0m\u001b[0;34m\u001b[0m\u001b[0;34m\u001b[0m\u001b[0m\n\u001b[1;32m    107\u001b[0m         \u001b[0;32mdef\u001b[0m \u001b[0mwrap\u001b[0m\u001b[0;34m(\u001b[0m\u001b[0;34m*\u001b[0m\u001b[0margs\u001b[0m\u001b[0;34m:\u001b[0m \u001b[0mAny\u001b[0m\u001b[0;34m,\u001b[0m \u001b[0;34m**\u001b[0m\u001b[0mkwargs\u001b[0m\u001b[0;34m:\u001b[0m \u001b[0mAny\u001b[0m\u001b[0;34m)\u001b[0m \u001b[0;34m->\u001b[0m \u001b[0mAny\u001b[0m\u001b[0;34m:\u001b[0m\u001b[0;34m\u001b[0m\u001b[0;34m\u001b[0m\u001b[0m\n\u001b[0;32m--> 108\u001b[0;31m             \u001b[0;32mreturn\u001b[0m \u001b[0mfunc\u001b[0m\u001b[0;34m(\u001b[0m\u001b[0;34m*\u001b[0m\u001b[0margs\u001b[0m\u001b[0;34m,\u001b[0m \u001b[0;34m**\u001b[0m\u001b[0mkwargs\u001b[0m\u001b[0;34m)\u001b[0m\u001b[0;34m\u001b[0m\u001b[0;34m\u001b[0m\u001b[0m\n\u001b[0m\u001b[1;32m    109\u001b[0m \u001b[0;34m\u001b[0m\u001b[0m\n\u001b[1;32m    110\u001b[0m         \u001b[0;32mreturn\u001b[0m \u001b[0mcast\u001b[0m\u001b[0;34m(\u001b[0m\u001b[0m_F\u001b[0m\u001b[0;34m,\u001b[0m \u001b[0mwrap\u001b[0m\u001b[0;34m)\u001b[0m\u001b[0;34m\u001b[0m\u001b[0;34m\u001b[0m\u001b[0m\n",
            "\u001b[0;32m/usr/local/lib/python3.10/dist-packages/xgboost/config.py\u001b[0m in \u001b[0;36mset_config\u001b[0;34m(**new_config)\u001b[0m\n\u001b[1;32m    130\u001b[0m             \u001b[0mnot_none\u001b[0m\u001b[0;34m[\u001b[0m\u001b[0mk\u001b[0m\u001b[0;34m]\u001b[0m \u001b[0;34m=\u001b[0m \u001b[0mv\u001b[0m\u001b[0;34m\u001b[0m\u001b[0;34m\u001b[0m\u001b[0m\n\u001b[1;32m    131\u001b[0m     \u001b[0mconfig\u001b[0m \u001b[0;34m=\u001b[0m \u001b[0mjson\u001b[0m\u001b[0;34m.\u001b[0m\u001b[0mdumps\u001b[0m\u001b[0;34m(\u001b[0m\u001b[0mnot_none\u001b[0m\u001b[0;34m)\u001b[0m\u001b[0;34m\u001b[0m\u001b[0;34m\u001b[0m\u001b[0m\n\u001b[0;32m--> 132\u001b[0;31m     \u001b[0m_check_call\u001b[0m\u001b[0;34m(\u001b[0m\u001b[0m_LIB\u001b[0m\u001b[0;34m.\u001b[0m\u001b[0mXGBSetGlobalConfig\u001b[0m\u001b[0;34m(\u001b[0m\u001b[0mc_str\u001b[0m\u001b[0;34m(\u001b[0m\u001b[0mconfig\u001b[0m\u001b[0;34m)\u001b[0m\u001b[0;34m)\u001b[0m\u001b[0;34m)\u001b[0m\u001b[0;34m\u001b[0m\u001b[0;34m\u001b[0m\u001b[0m\n\u001b[0m\u001b[1;32m    133\u001b[0m \u001b[0;34m\u001b[0m\u001b[0m\n\u001b[1;32m    134\u001b[0m \u001b[0;34m\u001b[0m\u001b[0m\n",
            "\u001b[0;32m/usr/local/lib/python3.10/dist-packages/xgboost/core.py\u001b[0m in \u001b[0;36m_check_call\u001b[0;34m(ret)\u001b[0m\n\u001b[1;32m    282\u001b[0m     \"\"\"\n\u001b[1;32m    283\u001b[0m     \u001b[0;32mif\u001b[0m \u001b[0mret\u001b[0m \u001b[0;34m!=\u001b[0m \u001b[0;36m0\u001b[0m\u001b[0;34m:\u001b[0m\u001b[0;34m\u001b[0m\u001b[0;34m\u001b[0m\u001b[0m\n\u001b[0;32m--> 284\u001b[0;31m         \u001b[0;32mraise\u001b[0m \u001b[0mXGBoostError\u001b[0m\u001b[0;34m(\u001b[0m\u001b[0mpy_str\u001b[0m\u001b[0;34m(\u001b[0m\u001b[0m_LIB\u001b[0m\u001b[0;34m.\u001b[0m\u001b[0mXGBGetLastError\u001b[0m\u001b[0;34m(\u001b[0m\u001b[0;34m)\u001b[0m\u001b[0;34m)\u001b[0m\u001b[0;34m)\u001b[0m\u001b[0;34m\u001b[0m\u001b[0;34m\u001b[0m\u001b[0m\n\u001b[0m\u001b[1;32m    285\u001b[0m \u001b[0;34m\u001b[0m\u001b[0m\n\u001b[1;32m    286\u001b[0m \u001b[0;34m\u001b[0m\u001b[0m\n",
            "\u001b[0;31mXGBoostError\u001b[0m: value 10 for Parameter verbosity exceed bound [0,3]\nverbosity: Flag to print out detailed breakdown of runtime."
          ]
        }
      ]
    },
    {
      "cell_type": "code",
      "source": [
        "estimator = XGBClassifier(eval_metric=\"auc\", early_sopping_rounds=30)\n",
        "adasyn = ADASYN(n_neighbors=5, random_state=42, sampling_strategy=\"minority\")\n",
        "\n",
        "params = {\n",
        "    \"n_estimators\": np.linspace(start=1000, stop=10001, num=20, dtype=int),\n",
        "    \"max_depth\": range(3, 16, 2)\n",
        "}\n",
        "\n",
        "model = RandomizedSearchCV(estimator, params, n_iter=30, scoring=\"roc_auc\", n_jobs=-1, cv=3)\n",
        "x_train_res, y_train_res = adasyn.fit_resample(x_train, y_train)\n",
        "model.fit(x_train_res, y_train_res)"
      ],
      "metadata": {
        "colab": {
          "base_uri": "https://localhost:8080/",
          "height": 321
        },
        "id": "XFy73Th7DLOp",
        "outputId": "b22b5b8e-acd3-4947-ec88-deb2ca864c0d"
      },
      "execution_count": null,
      "outputs": [
        {
          "output_type": "error",
          "ename": "KeyboardInterrupt",
          "evalue": "",
          "traceback": [
            "\u001b[0;31m---------------------------------------------------------------------------\u001b[0m",
            "\u001b[0;31mKeyboardInterrupt\u001b[0m                         Traceback (most recent call last)",
            "\u001b[0;32m<ipython-input-48-9ca18b84983c>\u001b[0m in \u001b[0;36m<cell line: 11>\u001b[0;34m()\u001b[0m\n\u001b[1;32m      9\u001b[0m \u001b[0mmodel\u001b[0m \u001b[0;34m=\u001b[0m \u001b[0mRandomizedSearchCV\u001b[0m\u001b[0;34m(\u001b[0m\u001b[0mestimator\u001b[0m\u001b[0;34m,\u001b[0m \u001b[0mparams\u001b[0m\u001b[0;34m,\u001b[0m \u001b[0mn_iter\u001b[0m\u001b[0;34m=\u001b[0m\u001b[0;36m30\u001b[0m\u001b[0;34m,\u001b[0m \u001b[0mscoring\u001b[0m\u001b[0;34m=\u001b[0m\u001b[0;34m\"roc_auc\"\u001b[0m\u001b[0;34m,\u001b[0m \u001b[0mn_jobs\u001b[0m\u001b[0;34m=\u001b[0m\u001b[0;34m-\u001b[0m\u001b[0;36m1\u001b[0m\u001b[0;34m,\u001b[0m \u001b[0mcv\u001b[0m\u001b[0;34m=\u001b[0m\u001b[0;36m3\u001b[0m\u001b[0;34m)\u001b[0m\u001b[0;34m\u001b[0m\u001b[0;34m\u001b[0m\u001b[0m\n\u001b[1;32m     10\u001b[0m \u001b[0mx_train_res\u001b[0m\u001b[0;34m,\u001b[0m \u001b[0my_train_res\u001b[0m \u001b[0;34m=\u001b[0m \u001b[0madasyn\u001b[0m\u001b[0;34m.\u001b[0m\u001b[0mfit_resample\u001b[0m\u001b[0;34m(\u001b[0m\u001b[0mx_train\u001b[0m\u001b[0;34m,\u001b[0m \u001b[0my_train\u001b[0m\u001b[0;34m)\u001b[0m\u001b[0;34m\u001b[0m\u001b[0;34m\u001b[0m\u001b[0m\n\u001b[0;32m---> 11\u001b[0;31m \u001b[0mmodel\u001b[0m\u001b[0;34m.\u001b[0m\u001b[0mfit\u001b[0m\u001b[0;34m(\u001b[0m\u001b[0mx_train_res\u001b[0m\u001b[0;34m,\u001b[0m \u001b[0my_train_res\u001b[0m\u001b[0;34m)\u001b[0m\u001b[0;34m\u001b[0m\u001b[0;34m\u001b[0m\u001b[0m\n\u001b[0m",
            "\u001b[0;32m/usr/local/lib/python3.10/dist-packages/sklearn/base.py\u001b[0m in \u001b[0;36mwrapper\u001b[0;34m(estimator, *args, **kwargs)\u001b[0m\n\u001b[1;32m   1471\u001b[0m                 )\n\u001b[1;32m   1472\u001b[0m             ):\n\u001b[0;32m-> 1473\u001b[0;31m                 \u001b[0;32mreturn\u001b[0m \u001b[0mfit_method\u001b[0m\u001b[0;34m(\u001b[0m\u001b[0mestimator\u001b[0m\u001b[0;34m,\u001b[0m \u001b[0;34m*\u001b[0m\u001b[0margs\u001b[0m\u001b[0;34m,\u001b[0m \u001b[0;34m**\u001b[0m\u001b[0mkwargs\u001b[0m\u001b[0;34m)\u001b[0m\u001b[0;34m\u001b[0m\u001b[0;34m\u001b[0m\u001b[0m\n\u001b[0m\u001b[1;32m   1474\u001b[0m \u001b[0;34m\u001b[0m\u001b[0m\n\u001b[1;32m   1475\u001b[0m         \u001b[0;32mreturn\u001b[0m \u001b[0mwrapper\u001b[0m\u001b[0;34m\u001b[0m\u001b[0;34m\u001b[0m\u001b[0m\n",
            "\u001b[0;32m/usr/local/lib/python3.10/dist-packages/sklearn/model_selection/_search.py\u001b[0m in \u001b[0;36mfit\u001b[0;34m(self, X, y, **params)\u001b[0m\n\u001b[1;32m   1017\u001b[0m                 \u001b[0;32mreturn\u001b[0m \u001b[0mresults\u001b[0m\u001b[0;34m\u001b[0m\u001b[0;34m\u001b[0m\u001b[0m\n\u001b[1;32m   1018\u001b[0m \u001b[0;34m\u001b[0m\u001b[0m\n\u001b[0;32m-> 1019\u001b[0;31m             \u001b[0mself\u001b[0m\u001b[0;34m.\u001b[0m\u001b[0m_run_search\u001b[0m\u001b[0;34m(\u001b[0m\u001b[0mevaluate_candidates\u001b[0m\u001b[0;34m)\u001b[0m\u001b[0;34m\u001b[0m\u001b[0;34m\u001b[0m\u001b[0m\n\u001b[0m\u001b[1;32m   1020\u001b[0m \u001b[0;34m\u001b[0m\u001b[0m\n\u001b[1;32m   1021\u001b[0m             \u001b[0;31m# multimetric is determined here because in the case of a callable\u001b[0m\u001b[0;34m\u001b[0m\u001b[0;34m\u001b[0m\u001b[0m\n",
            "\u001b[0;32m/usr/local/lib/python3.10/dist-packages/sklearn/model_selection/_search.py\u001b[0m in \u001b[0;36m_run_search\u001b[0;34m(self, evaluate_candidates)\u001b[0m\n\u001b[1;32m   1958\u001b[0m     \u001b[0;32mdef\u001b[0m \u001b[0m_run_search\u001b[0m\u001b[0;34m(\u001b[0m\u001b[0mself\u001b[0m\u001b[0;34m,\u001b[0m \u001b[0mevaluate_candidates\u001b[0m\u001b[0;34m)\u001b[0m\u001b[0;34m:\u001b[0m\u001b[0;34m\u001b[0m\u001b[0;34m\u001b[0m\u001b[0m\n\u001b[1;32m   1959\u001b[0m         \u001b[0;34m\"\"\"Search n_iter candidates from param_distributions\"\"\"\u001b[0m\u001b[0;34m\u001b[0m\u001b[0;34m\u001b[0m\u001b[0m\n\u001b[0;32m-> 1960\u001b[0;31m         evaluate_candidates(\n\u001b[0m\u001b[1;32m   1961\u001b[0m             ParameterSampler(\n\u001b[1;32m   1962\u001b[0m                 \u001b[0mself\u001b[0m\u001b[0;34m.\u001b[0m\u001b[0mparam_distributions\u001b[0m\u001b[0;34m,\u001b[0m \u001b[0mself\u001b[0m\u001b[0;34m.\u001b[0m\u001b[0mn_iter\u001b[0m\u001b[0;34m,\u001b[0m \u001b[0mrandom_state\u001b[0m\u001b[0;34m=\u001b[0m\u001b[0mself\u001b[0m\u001b[0;34m.\u001b[0m\u001b[0mrandom_state\u001b[0m\u001b[0;34m\u001b[0m\u001b[0;34m\u001b[0m\u001b[0m\n",
            "\u001b[0;32m/usr/local/lib/python3.10/dist-packages/sklearn/model_selection/_search.py\u001b[0m in \u001b[0;36mevaluate_candidates\u001b[0;34m(candidate_params, cv, more_results)\u001b[0m\n\u001b[1;32m    963\u001b[0m                     )\n\u001b[1;32m    964\u001b[0m \u001b[0;34m\u001b[0m\u001b[0m\n\u001b[0;32m--> 965\u001b[0;31m                 out = parallel(\n\u001b[0m\u001b[1;32m    966\u001b[0m                     delayed(_fit_and_score)(\n\u001b[1;32m    967\u001b[0m                         \u001b[0mclone\u001b[0m\u001b[0;34m(\u001b[0m\u001b[0mbase_estimator\u001b[0m\u001b[0;34m)\u001b[0m\u001b[0;34m,\u001b[0m\u001b[0;34m\u001b[0m\u001b[0;34m\u001b[0m\u001b[0m\n",
            "\u001b[0;32m/usr/local/lib/python3.10/dist-packages/sklearn/utils/parallel.py\u001b[0m in \u001b[0;36m__call__\u001b[0;34m(self, iterable)\u001b[0m\n\u001b[1;32m     72\u001b[0m             \u001b[0;32mfor\u001b[0m \u001b[0mdelayed_func\u001b[0m\u001b[0;34m,\u001b[0m \u001b[0margs\u001b[0m\u001b[0;34m,\u001b[0m \u001b[0mkwargs\u001b[0m \u001b[0;32min\u001b[0m \u001b[0miterable\u001b[0m\u001b[0;34m\u001b[0m\u001b[0;34m\u001b[0m\u001b[0m\n\u001b[1;32m     73\u001b[0m         )\n\u001b[0;32m---> 74\u001b[0;31m         \u001b[0;32mreturn\u001b[0m \u001b[0msuper\u001b[0m\u001b[0;34m(\u001b[0m\u001b[0;34m)\u001b[0m\u001b[0;34m.\u001b[0m\u001b[0m__call__\u001b[0m\u001b[0;34m(\u001b[0m\u001b[0miterable_with_config\u001b[0m\u001b[0;34m)\u001b[0m\u001b[0;34m\u001b[0m\u001b[0;34m\u001b[0m\u001b[0m\n\u001b[0m\u001b[1;32m     75\u001b[0m \u001b[0;34m\u001b[0m\u001b[0m\n\u001b[1;32m     76\u001b[0m \u001b[0;34m\u001b[0m\u001b[0m\n",
            "\u001b[0;32m/usr/local/lib/python3.10/dist-packages/joblib/parallel.py\u001b[0m in \u001b[0;36m__call__\u001b[0;34m(self, iterable)\u001b[0m\n\u001b[1;32m   2005\u001b[0m         \u001b[0mnext\u001b[0m\u001b[0;34m(\u001b[0m\u001b[0moutput\u001b[0m\u001b[0;34m)\u001b[0m\u001b[0;34m\u001b[0m\u001b[0;34m\u001b[0m\u001b[0m\n\u001b[1;32m   2006\u001b[0m \u001b[0;34m\u001b[0m\u001b[0m\n\u001b[0;32m-> 2007\u001b[0;31m         \u001b[0;32mreturn\u001b[0m \u001b[0moutput\u001b[0m \u001b[0;32mif\u001b[0m \u001b[0mself\u001b[0m\u001b[0;34m.\u001b[0m\u001b[0mreturn_generator\u001b[0m \u001b[0;32melse\u001b[0m \u001b[0mlist\u001b[0m\u001b[0;34m(\u001b[0m\u001b[0moutput\u001b[0m\u001b[0;34m)\u001b[0m\u001b[0;34m\u001b[0m\u001b[0;34m\u001b[0m\u001b[0m\n\u001b[0m\u001b[1;32m   2008\u001b[0m \u001b[0;34m\u001b[0m\u001b[0m\n\u001b[1;32m   2009\u001b[0m     \u001b[0;32mdef\u001b[0m \u001b[0m__repr__\u001b[0m\u001b[0;34m(\u001b[0m\u001b[0mself\u001b[0m\u001b[0;34m)\u001b[0m\u001b[0;34m:\u001b[0m\u001b[0;34m\u001b[0m\u001b[0;34m\u001b[0m\u001b[0m\n",
            "\u001b[0;32m/usr/local/lib/python3.10/dist-packages/joblib/parallel.py\u001b[0m in \u001b[0;36m_get_outputs\u001b[0;34m(self, iterator, pre_dispatch)\u001b[0m\n\u001b[1;32m   1648\u001b[0m \u001b[0;34m\u001b[0m\u001b[0m\n\u001b[1;32m   1649\u001b[0m             \u001b[0;32mwith\u001b[0m \u001b[0mself\u001b[0m\u001b[0;34m.\u001b[0m\u001b[0m_backend\u001b[0m\u001b[0;34m.\u001b[0m\u001b[0mretrieval_context\u001b[0m\u001b[0;34m(\u001b[0m\u001b[0;34m)\u001b[0m\u001b[0;34m:\u001b[0m\u001b[0;34m\u001b[0m\u001b[0;34m\u001b[0m\u001b[0m\n\u001b[0;32m-> 1650\u001b[0;31m                 \u001b[0;32myield\u001b[0m \u001b[0;32mfrom\u001b[0m \u001b[0mself\u001b[0m\u001b[0;34m.\u001b[0m\u001b[0m_retrieve\u001b[0m\u001b[0;34m(\u001b[0m\u001b[0;34m)\u001b[0m\u001b[0;34m\u001b[0m\u001b[0;34m\u001b[0m\u001b[0m\n\u001b[0m\u001b[1;32m   1651\u001b[0m \u001b[0;34m\u001b[0m\u001b[0m\n\u001b[1;32m   1652\u001b[0m         \u001b[0;32mexcept\u001b[0m \u001b[0mGeneratorExit\u001b[0m\u001b[0;34m:\u001b[0m\u001b[0;34m\u001b[0m\u001b[0;34m\u001b[0m\u001b[0m\n",
            "\u001b[0;32m/usr/local/lib/python3.10/dist-packages/joblib/parallel.py\u001b[0m in \u001b[0;36m_retrieve\u001b[0;34m(self)\u001b[0m\n\u001b[1;32m   1760\u001b[0m                 (self._jobs[0].get_status(\n\u001b[1;32m   1761\u001b[0m                     timeout=self.timeout) == TASK_PENDING)):\n\u001b[0;32m-> 1762\u001b[0;31m                 \u001b[0mtime\u001b[0m\u001b[0;34m.\u001b[0m\u001b[0msleep\u001b[0m\u001b[0;34m(\u001b[0m\u001b[0;36m0.01\u001b[0m\u001b[0;34m)\u001b[0m\u001b[0;34m\u001b[0m\u001b[0;34m\u001b[0m\u001b[0m\n\u001b[0m\u001b[1;32m   1763\u001b[0m                 \u001b[0;32mcontinue\u001b[0m\u001b[0;34m\u001b[0m\u001b[0;34m\u001b[0m\u001b[0m\n\u001b[1;32m   1764\u001b[0m \u001b[0;34m\u001b[0m\u001b[0m\n",
            "\u001b[0;31mKeyboardInterrupt\u001b[0m: "
          ]
        }
      ]
    },
    {
      "cell_type": "code",
      "source": [
        "print(classification_report(y_val, model.predict(x_val)))"
      ],
      "metadata": {
        "colab": {
          "base_uri": "https://localhost:8080/"
        },
        "id": "wWZUzFbgketo",
        "outputId": "69bc0cbf-d46d-4346-e070-c2de523cf67d"
      },
      "execution_count": null,
      "outputs": [
        {
          "output_type": "stream",
          "name": "stdout",
          "text": [
            "              precision    recall  f1-score   support\n",
            "\n",
            "           0       0.99      1.00      1.00     66588\n",
            "           1       0.97      0.39      0.56      1060\n",
            "\n",
            "    accuracy                           0.99     67648\n",
            "   macro avg       0.98      0.69      0.78     67648\n",
            "weighted avg       0.99      0.99      0.99     67648\n",
            "\n"
          ]
        }
      ]
    },
    {
      "cell_type": "code",
      "source": [
        "print(classification_report(y_val, model.predict(x_val)))"
      ],
      "metadata": {
        "colab": {
          "base_uri": "https://localhost:8080/"
        },
        "id": "Pu1AaA3gqz-X",
        "outputId": "bedd259f-ee92-400a-980c-9f788fa8aed5"
      },
      "execution_count": null,
      "outputs": [
        {
          "output_type": "stream",
          "name": "stdout",
          "text": [
            "              precision    recall  f1-score   support\n",
            "\n",
            "           0       0.99      1.00      0.99     66588\n",
            "           1       0.92      0.39      0.55      1060\n",
            "\n",
            "    accuracy                           0.99     67648\n",
            "   macro avg       0.96      0.69      0.77     67648\n",
            "weighted avg       0.99      0.99      0.99     67648\n",
            "\n"
          ]
        }
      ]
    }
  ],
  "metadata": {
    "kernelspec": {
      "display_name": ".venv",
      "language": "python",
      "name": "python3"
    },
    "language_info": {
      "codemirror_mode": {
        "name": "ipython",
        "version": 3
      },
      "file_extension": ".py",
      "mimetype": "text/x-python",
      "name": "python",
      "nbconvert_exporter": "python",
      "pygments_lexer": "ipython3",
      "version": "3.12.6"
    },
    "colab": {
      "provenance": []
    }
  },
  "nbformat": 4,
  "nbformat_minor": 0
}